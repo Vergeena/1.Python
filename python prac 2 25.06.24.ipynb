{
 "cells": [
  {
   "cell_type": "markdown",
   "id": "21e39e31",
   "metadata": {},
   "source": [
    "# Control structure"
   ]
  },
  {
   "cell_type": "code",
   "execution_count": 1,
   "id": "23715afa",
   "metadata": {},
   "outputs": [
    {
     "name": "stdout",
     "output_type": "stream",
     "text": [
      "Enter the age:28\n"
     ]
    }
   ],
   "source": [
    "age=int(input(\"Enter the age:\"))"
   ]
  },
  {
   "cell_type": "markdown",
   "id": "b7ff4da6",
   "metadata": {},
   "source": [
    "if(age==18):"
   ]
  },
  {
   "cell_type": "code",
   "execution_count": 3,
   "id": "9a778f85",
   "metadata": {},
   "outputs": [
    {
     "name": "stdout",
     "output_type": "stream",
     "text": [
      "Adult\n"
     ]
    }
   ],
   "source": [
    "print(\"Adult\")"
   ]
  },
  {
   "cell_type": "code",
   "execution_count": 4,
   "id": "f6a0196a",
   "metadata": {},
   "outputs": [
    {
     "name": "stdout",
     "output_type": "stream",
     "text": [
      "Enter the age:16\n"
     ]
    }
   ],
   "source": [
    "age=int(input(\"Enter the age:\"))"
   ]
  },
  {
   "cell_type": "markdown",
   "id": "63f0ea78",
   "metadata": {},
   "source": [
    "if(age==18):"
   ]
  },
  {
   "cell_type": "code",
   "execution_count": 5,
   "id": "b63cef02",
   "metadata": {},
   "outputs": [
    {
     "name": "stdout",
     "output_type": "stream",
     "text": [
      "Not Adult\n"
     ]
    }
   ],
   "source": [
    "print(\"Not Adult\")"
   ]
  },
  {
   "cell_type": "code",
   "execution_count": 6,
   "id": "760e4aca",
   "metadata": {},
   "outputs": [
    {
     "name": "stdout",
     "output_type": "stream",
     "text": [
      "Enter the age:3\n"
     ]
    }
   ],
   "source": [
    "age=int(input(\"Enter the age:\"))"
   ]
  },
  {
   "cell_type": "code",
   "execution_count": 7,
   "id": "00016023",
   "metadata": {},
   "outputs": [
    {
     "name": "stdout",
     "output_type": "stream",
     "text": [
      "Children\n"
     ]
    }
   ],
   "source": [
    "if(age<18):\n",
    "    print(\"Children\")\n",
    "else:\n",
    "    print(\"Adult\")"
   ]
  },
  {
   "cell_type": "code",
   "execution_count": 8,
   "id": "9dc2c4a9",
   "metadata": {},
   "outputs": [
    {
     "name": "stdout",
     "output_type": "stream",
     "text": [
      "Enter the age:25\n"
     ]
    }
   ],
   "source": [
    "age=int(input(\"Enter the age:\"))"
   ]
  },
  {
   "cell_type": "code",
   "execution_count": 9,
   "id": "247f0157",
   "metadata": {},
   "outputs": [
    {
     "name": "stdout",
     "output_type": "stream",
     "text": [
      "Adult\n"
     ]
    }
   ],
   "source": [
    "if(age<18):\n",
    "    print(\"Children\")\n",
    "else:\n",
    "    print(\"Adult\")"
   ]
  },
  {
   "cell_type": "markdown",
   "id": "7777bce7",
   "metadata": {},
   "source": [
    "# Odd or Even"
   ]
  },
  {
   "cell_type": "code",
   "execution_count": 10,
   "id": "1f255e58",
   "metadata": {},
   "outputs": [
    {
     "name": "stdout",
     "output_type": "stream",
     "text": [
      "Enter the number is odd or even:7\n",
      "This is Odd\n"
     ]
    }
   ],
   "source": [
    "num=int(input(\"Enter the number is odd or even:\"))\n",
    "if(num%2)==0:\n",
    "    print(\"This is Even\")\n",
    "else:\n",
    "    print(\"This is Odd\")"
   ]
  },
  {
   "cell_type": "code",
   "execution_count": 11,
   "id": "b7b767d4",
   "metadata": {},
   "outputs": [
    {
     "name": "stdout",
     "output_type": "stream",
     "text": [
      "Enter the number is odd or even:22\n",
      "This is Even\n"
     ]
    }
   ],
   "source": [
    "num=int(input(\"Enter the number is odd or even:\"))\n",
    "if(num%2)==0:\n",
    "    print(\"This is Even\")\n",
    "else:\n",
    "    print(\"This is Odd\")"
   ]
  },
  {
   "cell_type": "code",
   "execution_count": 12,
   "id": "1a361943",
   "metadata": {},
   "outputs": [
    {
     "name": "stdout",
     "output_type": "stream",
     "text": [
      "Enter the number is odd or even:33\n",
      "This is Odd\n"
     ]
    }
   ],
   "source": [
    "num=int(input(\"Enter the number is odd or even:\"))\n",
    "if(num%2)==1:\n",
    "    print(\"This is Odd\")\n",
    "else:\n",
    "    print(\"This is Even\")"
   ]
  },
  {
   "cell_type": "code",
   "execution_count": 13,
   "id": "86164d35",
   "metadata": {},
   "outputs": [
    {
     "name": "stdout",
     "output_type": "stream",
     "text": [
      "Enter the number is odd or even:12\n",
      "This is Even\n"
     ]
    }
   ],
   "source": [
    "num=int(input(\"Enter the number is odd or even:\"))\n",
    "if(num%2)==1:\n",
    "    print(\"This is Odd\")\n",
    "else:\n",
    "    print(\"This is Even\")"
   ]
  },
  {
   "cell_type": "code",
   "execution_count": 14,
   "id": "5d0f9c66",
   "metadata": {},
   "outputs": [
    {
     "data": {
      "text/plain": [
       "range(0, 10)"
      ]
     },
     "execution_count": 14,
     "metadata": {},
     "output_type": "execute_result"
    }
   ],
   "source": [
    "range(0,10)"
   ]
  },
  {
   "cell_type": "code",
   "execution_count": 15,
   "id": "71a6278d",
   "metadata": {},
   "outputs": [
    {
     "name": "stdout",
     "output_type": "stream",
     "text": [
      "range(0, 10)\n"
     ]
    }
   ],
   "source": [
    "print(range(0,10))"
   ]
  },
  {
   "cell_type": "code",
   "execution_count": 16,
   "id": "8996e359",
   "metadata": {},
   "outputs": [
    {
     "name": "stdout",
     "output_type": "stream",
     "text": [
      "0\n",
      "1\n",
      "2\n",
      "3\n",
      "4\n",
      "5\n",
      "6\n",
      "7\n",
      "8\n",
      "9\n"
     ]
    }
   ],
   "source": [
    "for num in range(0,10):\n",
    "    print(num)"
   ]
  },
  {
   "cell_type": "code",
   "execution_count": 17,
   "id": "6e9f046e",
   "metadata": {},
   "outputs": [
    {
     "name": "stdout",
     "output_type": "stream",
     "text": [
      "0\n",
      "5\n",
      "10\n",
      "15\n",
      "20\n",
      "25\n",
      "30\n",
      "35\n"
     ]
    }
   ],
   "source": [
    "for num in range(0,40,5):\n",
    "    print(num)"
   ]
  },
  {
   "cell_type": "markdown",
   "id": "5ea37430",
   "metadata": {},
   "source": [
    "# Indentation"
   ]
  },
  {
   "cell_type": "code",
   "execution_count": 18,
   "id": "53ebf978",
   "metadata": {},
   "outputs": [
    {
     "name": "stdout",
     "output_type": "stream",
     "text": [
      "Enter the age:33\n",
      "Adult\n"
     ]
    }
   ],
   "source": [
    "age=int(input(\"Enter the age:\"))\n",
    "if(age<18):\n",
    "    print(\"Children\")\n",
    "elif(age<35):\n",
    "    print(\"Adult\")\n",
    "elif(age<59):\n",
    "    print(\"citizen\")\n",
    "else:\n",
    "    print(\"Senior Citizen\")"
   ]
  },
  {
   "cell_type": "code",
   "execution_count": 19,
   "id": "a511954f",
   "metadata": {},
   "outputs": [
    {
     "name": "stdout",
     "output_type": "stream",
     "text": [
      "23\n",
      "16\n",
      "95\n",
      "46\n",
      "7\n",
      "33\n"
     ]
    }
   ],
   "source": [
    "lists=[23,16,95,46,7,33]\n",
    "for age in lists:\n",
    "    print(age)"
   ]
  },
  {
   "cell_type": "code",
   "execution_count": 20,
   "id": "3f6c6a85",
   "metadata": {},
   "outputs": [
    {
     "name": "stdout",
     "output_type": "stream",
     "text": [
      "Adult\n",
      "Children\n",
      "Senior Citizen\n",
      "citizen\n",
      "Children\n",
      "Adult\n"
     ]
    }
   ],
   "source": [
    "lists=[23,16,95,46,7,33]\n",
    "for age in lists:\n",
    "    if(age<18):\n",
    "        print(\"Children\")\n",
    "    elif(age<35):\n",
    "        print(\"Adult\")\n",
    "    elif(age<59):\n",
    "        print(\"citizen\")\n",
    "    else:\n",
    "        print(\"Senior Citizen\")"
   ]
  },
  {
   "cell_type": "code",
   "execution_count": 21,
   "id": "f38ac003",
   "metadata": {},
   "outputs": [
    {
     "name": "stdout",
     "output_type": "stream",
     "text": [
      "value= 10\n",
      "correct\n"
     ]
    }
   ],
   "source": [
    "i=10\n",
    "print(\"value=\",i)\n",
    "print(\"correct\")"
   ]
  },
  {
   "cell_type": "code",
   "execution_count": 22,
   "id": "fc867abc",
   "metadata": {},
   "outputs": [
    {
     "name": "stdout",
     "output_type": "stream",
     "text": [
      "correct\n"
     ]
    }
   ],
   "source": [
    "i=10\n",
    "if(i==10):\n",
    "    #print(\"value=\",i)\n",
    "    print(\"correct\")"
   ]
  },
  {
   "cell_type": "code",
   "execution_count": 23,
   "id": "3f00e06d",
   "metadata": {},
   "outputs": [
    {
     "name": "stdout",
     "output_type": "stream",
     "text": [
      "Enter the num:10\n",
      "value= 10\n",
      "correct\n"
     ]
    }
   ],
   "source": [
    "i=int(input(\"Enter the num:\"))\n",
    "if(i==10):\n",
    "    print(\"value=\",i)\n",
    "    print(\"correct\")"
   ]
  },
  {
   "cell_type": "code",
   "execution_count": 24,
   "id": "2368a530",
   "metadata": {},
   "outputs": [
    {
     "name": "stdout",
     "output_type": "stream",
     "text": [
      "Enter the password:HOpe123\n",
      "Your password is wrong\n"
     ]
    }
   ],
   "source": [
    "pwd=input(\"Enter the password:\")\n",
    "if(pwd=='HOPE@123'):\n",
    "    print(\"Your password is correct\")\n",
    "else:\n",
    "    print(\"Your password is wrong\")"
   ]
  },
  {
   "cell_type": "code",
   "execution_count": 25,
   "id": "47335e50",
   "metadata": {},
   "outputs": [
    {
     "name": "stdout",
     "output_type": "stream",
     "text": [
      "Enter the password:jee\n",
      "Access\n"
     ]
    }
   ],
   "source": [
    "pwd=input(\"Enter the password:\")\n",
    "if(pwd=='jee'):\n",
    "    print(\"Access\")\n",
    "else:\n",
    "    print(\"Access denied\")"
   ]
  },
  {
   "cell_type": "code",
   "execution_count": 26,
   "id": "f31d45a4",
   "metadata": {},
   "outputs": [
    {
     "name": "stdout",
     "output_type": "stream",
     "text": [
      "age:29\n",
      "Adult\n"
     ]
    }
   ],
   "source": [
    "age=int(input(\"age:\"))\n",
    "if(age<18):\n",
    "    print(\"Child\")\n",
    "elif(age<35):\n",
    "    print(\"Adult\")\n",
    "else:\n",
    "    print(\"citizen\")"
   ]
  },
  {
   "cell_type": "code",
   "execution_count": 27,
   "id": "eedc121b",
   "metadata": {},
   "outputs": [
    {
     "name": "stdout",
     "output_type": "stream",
     "text": [
      "Enter any number:33\n",
      "is positive\n"
     ]
    }
   ],
   "source": [
    "num=int(input(\"Enter any number:\"))\n",
    "if(num>0):\n",
    "    print(\"is positive\")\n",
    "else:\n",
    "    print(\"is negative\")"
   ]
  },
  {
   "cell_type": "code",
   "execution_count": 28,
   "id": "d7ad0e6a",
   "metadata": {},
   "outputs": [
    {
     "name": "stdout",
     "output_type": "stream",
     "text": [
      "Enter any number:-2\n",
      "is Negative\n"
     ]
    }
   ],
   "source": [
    "num=int(input(\"Enter any number:\"))\n",
    "if(num<0):\n",
    "    print(\"is Negative\")\n",
    "else:\n",
    "    print(\"is Positive\")"
   ]
  },
  {
   "cell_type": "code",
   "execution_count": 29,
   "id": "dc946815",
   "metadata": {},
   "outputs": [
    {
     "name": "stdout",
     "output_type": "stream",
     "text": [
      "Enter the number to check:22\n",
      "is not divisible by 5\n"
     ]
    }
   ],
   "source": [
    "num=int(input(\"Enter the number to check:\"))\n",
    "if(num%5==0):\n",
    "    print(\"is divisible by 5\")\n",
    "else:\n",
    "    print(\"is not divisible by 5\")"
   ]
  },
  {
   "cell_type": "code",
   "execution_count": 30,
   "id": "5dd2f315",
   "metadata": {},
   "outputs": [
    {
     "name": "stdout",
     "output_type": "stream",
     "text": [
      "Enter the number to check:35\n",
      "is divisible by 5\n"
     ]
    }
   ],
   "source": [
    "num=int(input(\"Enter the number to check:\"))\n",
    "if(num%5==0):\n",
    "    print(\"is divisible by 5\")\n",
    "else:\n",
    "    print(\"is not divisible by 5\")"
   ]
  },
  {
   "cell_type": "code",
   "execution_count": null,
   "id": "00ea6d84",
   "metadata": {},
   "outputs": [],
   "source": []
  }
 ],
 "metadata": {
  "kernelspec": {
   "display_name": "Python 3 (ipykernel)",
   "language": "python",
   "name": "python3"
  },
  "language_info": {
   "codemirror_mode": {
    "name": "ipython",
    "version": 3
   },
   "file_extension": ".py",
   "mimetype": "text/x-python",
   "name": "python",
   "nbconvert_exporter": "python",
   "pygments_lexer": "ipython3",
   "version": "3.7.6"
  }
 },
 "nbformat": 4,
 "nbformat_minor": 5
}
