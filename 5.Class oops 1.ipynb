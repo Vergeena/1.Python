{
 "cells": [
  {
   "cell_type": "markdown",
   "id": "f25b743e",
   "metadata": {},
   "source": [
    "Class OOPS:"
   ]
  },
  {
   "cell_type": "code",
   "execution_count": 2,
   "id": "81ad8210",
   "metadata": {},
   "outputs": [],
   "source": [
    "class Multifunction():\n",
    "    def num():\n",
    "        num=int(input(\"Enter the BMI index:\"))\n",
    "        if(num<18.5):\n",
    "            print(\"Under weight\")\n",
    "            message=\"Under weight\"\n",
    "        elif(num<24.9):\n",
    "            print(\"Normal Range\")\n",
    "            message=\"Normal Range\"\n",
    "        elif(num<29.9):\n",
    "            print(\"Overweight\")\n",
    "            message=\"Overweight\"\n",
    "        else:\n",
    "            print(\"Very Overweight\")\n",
    "            message=\"Very Overweight\"\n",
    "        return message\n",
    "\n",
    "    def oddeven():\n",
    "        num=int(input(\"Enter the number whether it even or odd:\"))\n",
    "        if((num%2)==1):\n",
    "            print(\"The number is odd number\")\n",
    "            message=\"odd number\"\n",
    "        else:\n",
    "            print(\"The number is even number\")\n",
    "            message=\"even number\"\n",
    "        return message"
   ]
  },
  {
   "cell_type": "code",
   "execution_count": 3,
   "id": "30c344f3",
   "metadata": {},
   "outputs": [
    {
     "name": "stdout",
     "output_type": "stream",
     "text": [
      "Enter the BMI index:35\n",
      "Very Overweight\n"
     ]
    },
    {
     "data": {
      "text/plain": [
       "'Very Overweight'"
      ]
     },
     "execution_count": 3,
     "metadata": {},
     "output_type": "execute_result"
    }
   ],
   "source": [
    "Multifunction.num()"
   ]
  },
  {
   "cell_type": "code",
   "execution_count": 5,
   "id": "df01e52d",
   "metadata": {},
   "outputs": [
    {
     "name": "stdout",
     "output_type": "stream",
     "text": [
      "Enter the number whether it even or odd:2\n",
      "The number is even number\n"
     ]
    },
    {
     "data": {
      "text/plain": [
       "'even number'"
      ]
     },
     "execution_count": 5,
     "metadata": {},
     "output_type": "execute_result"
    }
   ],
   "source": [
    "Multifunction.oddeven()"
   ]
  },
  {
   "cell_type": "code",
   "execution_count": null,
   "id": "79929169",
   "metadata": {},
   "outputs": [],
   "source": []
  }
 ],
 "metadata": {
  "kernelspec": {
   "display_name": "Python 3 (ipykernel)",
   "language": "python",
   "name": "python3"
  },
  "language_info": {
   "codemirror_mode": {
    "name": "ipython",
    "version": 3
   },
   "file_extension": ".py",
   "mimetype": "text/x-python",
   "name": "python",
   "nbconvert_exporter": "python",
   "pygments_lexer": "ipython3",
   "version": "3.11.5"
  }
 },
 "nbformat": 4,
 "nbformat_minor": 5
}
