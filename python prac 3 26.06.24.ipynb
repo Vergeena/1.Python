{
 "cells": [
  {
   "cell_type": "code",
   "execution_count": 1,
   "id": "84384dd6",
   "metadata": {},
   "outputs": [],
   "source": [
    "lists=[3,26,86,52,31,66]"
   ]
  },
  {
   "cell_type": "code",
   "execution_count": 2,
   "id": "25c220c8",
   "metadata": {},
   "outputs": [],
   "source": [
    "def agecategory():\n",
    "    for age in lists:\n",
    "        if(age<18):\n",
    "            print(\"Children\")\n",
    "        elif(age<35):\n",
    "            print(\"Adult\")\n",
    "        elif(age<59):\n",
    "            print(\"Citizen\")\n",
    "        else:\n",
    "            print(\"Senior citizen\")"
   ]
  },
  {
   "cell_type": "code",
   "execution_count": 3,
   "id": "b62bb2f4",
   "metadata": {},
   "outputs": [
    {
     "name": "stdout",
     "output_type": "stream",
     "text": [
      "Children\n",
      "Adult\n",
      "Senior citizen\n",
      "Citizen\n",
      "Adult\n",
      "Senior citizen\n"
     ]
    }
   ],
   "source": [
    "agecategory()"
   ]
  },
  {
   "cell_type": "code",
   "execution_count": 4,
   "id": "c3e67837",
   "metadata": {},
   "outputs": [
    {
     "name": "stdout",
     "output_type": "stream",
     "text": [
      "Enter the age:65\n"
     ]
    }
   ],
   "source": [
    "age=int(input(\"Enter the age:\"))"
   ]
  },
  {
   "cell_type": "code",
   "execution_count": 5,
   "id": "65d482a6",
   "metadata": {},
   "outputs": [],
   "source": [
    "def agecategory1():\n",
    "        if(age<18):\n",
    "            print(\"Children\")\n",
    "            cate=\"Children\"\n",
    "        elif(age<35):\n",
    "            print(\"Adult\")\n",
    "            cate=\"Adult\"\n",
    "        elif(age<59):\n",
    "            print(\"Citizen\")\n",
    "            cate=\"Citizen\"\n",
    "        else:\n",
    "            print(\"Senior citizen\")\n",
    "            cate=\"Senior citizen\"\n",
    "        return cate"
   ]
  },
  {
   "cell_type": "code",
   "execution_count": 6,
   "id": "37e67619",
   "metadata": {},
   "outputs": [
    {
     "name": "stdout",
     "output_type": "stream",
     "text": [
      "Senior citizen\n"
     ]
    },
    {
     "data": {
      "text/plain": [
       "'Senior citizen'"
      ]
     },
     "execution_count": 6,
     "metadata": {},
     "output_type": "execute_result"
    }
   ],
   "source": [
    "agecategory1()"
   ]
  },
  {
   "cell_type": "code",
   "execution_count": 7,
   "id": "30acb743",
   "metadata": {},
   "outputs": [
    {
     "name": "stdout",
     "output_type": "stream",
     "text": [
      "Senior citizen\n"
     ]
    }
   ],
   "source": [
    "agecate=agecategory1()"
   ]
  },
  {
   "cell_type": "code",
   "execution_count": 8,
   "id": "e68df1b6",
   "metadata": {},
   "outputs": [
    {
     "data": {
      "text/plain": [
       "'Senior citizen'"
      ]
     },
     "execution_count": 8,
     "metadata": {},
     "output_type": "execute_result"
    }
   ],
   "source": [
    "agecate"
   ]
  },
  {
   "cell_type": "code",
   "execution_count": 14,
   "id": "88d145a9",
   "metadata": {},
   "outputs": [],
   "source": [
    "def agecategory1():\n",
    "        if(age<18):\n",
    "            print(\"Children\")\n",
    "            cate=\"Children\"\n",
    "        elif(age<35):\n",
    "            print(\"Adult\")\n",
    "            cate=\"Adult\"\n",
    "        elif(age<59):\n",
    "            print(\"Citizen\")\n",
    "            cate=\"Citizen\"\n",
    "        else:\n",
    "            print(\"Senior citizen\")\n",
    "            cate=\"Senior citizen\"\n",
    "        return cate"
   ]
  },
  {
   "cell_type": "code",
   "execution_count": 15,
   "id": "99d614a7",
   "metadata": {},
   "outputs": [
    {
     "name": "stdout",
     "output_type": "stream",
     "text": [
      "Enter the age:39\n",
      "Citizen\n"
     ]
    }
   ],
   "source": [
    "age=int(input(\"Enter the age:\"))\n",
    "agecate=agecategory1()"
   ]
  },
  {
   "cell_type": "code",
   "execution_count": 16,
   "id": "3b632649",
   "metadata": {},
   "outputs": [
    {
     "data": {
      "text/plain": [
       "'Citizen'"
      ]
     },
     "execution_count": 16,
     "metadata": {},
     "output_type": "execute_result"
    }
   ],
   "source": [
    "agecate"
   ]
  },
  {
   "cell_type": "code",
   "execution_count": 17,
   "id": "74002592",
   "metadata": {},
   "outputs": [
    {
     "name": "stdout",
     "output_type": "stream",
     "text": [
      "Citizen\n"
     ]
    }
   ],
   "source": [
    "print(agecate)"
   ]
  },
  {
   "cell_type": "code",
   "execution_count": 3,
   "id": "bff793fc",
   "metadata": {},
   "outputs": [],
   "source": [
    "def agecategoryNor():\n",
    "        if(age<18):\n",
    "            print(\"Children\")\n",
    "            cate=\"Children\"\n",
    "        elif(age<35):\n",
    "            print(\"Adult\")\n",
    "            cate=\"Adult\"\n",
    "        elif(age<59):\n",
    "            print(\"Citizen\")\n",
    "            cate=\"Citizen\"\n",
    "        else:\n",
    "            print(\"Senior citizen\")\n",
    "            cate=\"Senior citizen\"\n",
    "        return cate"
   ]
  },
  {
   "cell_type": "code",
   "execution_count": 4,
   "id": "d5c2e730",
   "metadata": {},
   "outputs": [
    {
     "name": "stdout",
     "output_type": "stream",
     "text": [
      "Enter the age:28\n",
      "Adult\n"
     ]
    }
   ],
   "source": [
    "age=int(input(\"Enter the age:\"))\n",
    "agecate=agecategoryNor()"
   ]
  },
  {
   "cell_type": "code",
   "execution_count": 5,
   "id": "193da929",
   "metadata": {},
   "outputs": [
    {
     "name": "stdout",
     "output_type": "stream",
     "text": [
      "Adult\n"
     ]
    }
   ],
   "source": [
    "print(agecate)"
   ]
  },
  {
   "cell_type": "code",
   "execution_count": 6,
   "id": "27e48e13",
   "metadata": {},
   "outputs": [
    {
     "name": "stdout",
     "output_type": "stream",
     "text": [
      "Enter the age:15\n",
      "Children\n"
     ]
    }
   ],
   "source": [
    "age=int(input(\"Enter the age:\"))\n",
    "agecate1=agecategoryNor()"
   ]
  },
  {
   "cell_type": "code",
   "execution_count": 7,
   "id": "a88d3672",
   "metadata": {},
   "outputs": [
    {
     "name": "stdout",
     "output_type": "stream",
     "text": [
      "Enter the age:76\n",
      "Senior citizen\n"
     ]
    }
   ],
   "source": [
    "age=int(input(\"Enter the age:\"))\n",
    "agecate2=agecategoryNor()"
   ]
  },
  {
   "cell_type": "code",
   "execution_count": 8,
   "id": "e5cda77c",
   "metadata": {},
   "outputs": [],
   "source": [
    "def oddeven():\n",
    "    num=int(input(\"Enter the number whether it even or odd:\"))\n",
    "    if((num%2)==1):\n",
    "        print(\"The number is odd\")\n",
    "        message=\"odd\"\n",
    "    else:\n",
    "        print(\"The number is even\")\n",
    "        message=\"even\"\n",
    "    return message"
   ]
  },
  {
   "cell_type": "code",
   "execution_count": 9,
   "id": "db5a4a98",
   "metadata": {},
   "outputs": [
    {
     "name": "stdout",
     "output_type": "stream",
     "text": [
      "Enter the number whether it even or odd:23\n",
      "The number is odd\n"
     ]
    },
    {
     "data": {
      "text/plain": [
       "'odd'"
      ]
     },
     "execution_count": 9,
     "metadata": {},
     "output_type": "execute_result"
    }
   ],
   "source": [
    "oddeven()"
   ]
  },
  {
   "cell_type": "code",
   "execution_count": 10,
   "id": "74844e48",
   "metadata": {},
   "outputs": [
    {
     "name": "stdout",
     "output_type": "stream",
     "text": [
      "Enter the number whether it even or odd:22\n",
      "The number is even\n"
     ]
    }
   ],
   "source": [
    "message=oddeven()"
   ]
  },
  {
   "cell_type": "code",
   "execution_count": 11,
   "id": "7257c23c",
   "metadata": {},
   "outputs": [
    {
     "name": "stdout",
     "output_type": "stream",
     "text": [
      "even\n"
     ]
    }
   ],
   "source": [
    "print(message)"
   ]
  },
  {
   "cell_type": "code",
   "execution_count": 12,
   "id": "42c05ab3",
   "metadata": {},
   "outputs": [
    {
     "name": "stdout",
     "output_type": "stream",
     "text": [
      "The given number is Odd\n"
     ]
    }
   ],
   "source": [
    "if(message==\"Even number\"):\n",
    "    print(\"The given number is Even\")\n",
    "else:\n",
    "    print(\"The given number is Odd\")"
   ]
  },
  {
   "cell_type": "code",
   "execution_count": 13,
   "id": "923fa9e4",
   "metadata": {},
   "outputs": [
    {
     "name": "stdout",
     "output_type": "stream",
     "text": [
      "Enter the number whether it even or odd:23\n",
      "The number is odd\n"
     ]
    }
   ],
   "source": [
    "message=oddeven()"
   ]
  },
  {
   "cell_type": "code",
   "execution_count": 14,
   "id": "fc6270ca",
   "metadata": {},
   "outputs": [
    {
     "name": "stdout",
     "output_type": "stream",
     "text": [
      "The given number is Odd\n"
     ]
    }
   ],
   "source": [
    "if(message==\"Even number\"):\n",
    "    print(\"The given number is Even\")\n",
    "else:\n",
    "    print(\"The given number is Odd\")"
   ]
  },
  {
   "cell_type": "code",
   "execution_count": 16,
   "id": "4508548f",
   "metadata": {},
   "outputs": [],
   "source": [
    "def addition(a,b):\n",
    "    add=a+b\n",
    "    return add"
   ]
  },
  {
   "cell_type": "code",
   "execution_count": 17,
   "id": "68596d98",
   "metadata": {},
   "outputs": [
    {
     "data": {
      "text/plain": [
       "7"
      ]
     },
     "execution_count": 17,
     "metadata": {},
     "output_type": "execute_result"
    }
   ],
   "source": [
    "addition(3,4)"
   ]
  },
  {
   "cell_type": "code",
   "execution_count": 18,
   "id": "4a1c51fa",
   "metadata": {},
   "outputs": [],
   "source": [
    "def subtraction(a,b):\n",
    "    sub=a-b\n",
    "    return sub"
   ]
  },
  {
   "cell_type": "code",
   "execution_count": 19,
   "id": "e55f7286",
   "metadata": {},
   "outputs": [
    {
     "data": {
      "text/plain": [
       "1"
      ]
     },
     "execution_count": 19,
     "metadata": {},
     "output_type": "execute_result"
    }
   ],
   "source": [
    "subtraction(4,3)"
   ]
  },
  {
   "cell_type": "code",
   "execution_count": 20,
   "id": "d082aca9",
   "metadata": {},
   "outputs": [],
   "source": [
    "def mulplication(a,b):\n",
    "    mul=a*b\n",
    "    return mul"
   ]
  },
  {
   "cell_type": "code",
   "execution_count": 21,
   "id": "c754b4e4",
   "metadata": {},
   "outputs": [
    {
     "data": {
      "text/plain": [
       "7"
      ]
     },
     "execution_count": 21,
     "metadata": {},
     "output_type": "execute_result"
    }
   ],
   "source": [
    "mulplication(7,1)"
   ]
  },
  {
   "cell_type": "code",
   "execution_count": 22,
   "id": "c84c7402",
   "metadata": {},
   "outputs": [],
   "source": [
    "def division(a,b):\n",
    "    div=a/b\n",
    "    return div"
   ]
  },
  {
   "cell_type": "code",
   "execution_count": 24,
   "id": "64c32e50",
   "metadata": {},
   "outputs": [
    {
     "data": {
      "text/plain": [
       "2.0"
      ]
     },
     "execution_count": 24,
     "metadata": {},
     "output_type": "execute_result"
    }
   ],
   "source": [
    "division(14,7)"
   ]
  }
 ],
 "metadata": {
  "kernelspec": {
   "display_name": "Python 3 (ipykernel)",
   "language": "python",
   "name": "python3"
  },
  "language_info": {
   "codemirror_mode": {
    "name": "ipython",
    "version": 3
   },
   "file_extension": ".py",
   "mimetype": "text/x-python",
   "name": "python",
   "nbconvert_exporter": "python",
   "pygments_lexer": "ipython3",
   "version": "3.7.6"
  }
 },
 "nbformat": 4,
 "nbformat_minor": 5
}
