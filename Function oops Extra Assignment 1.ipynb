{
 "cells": [
  {
   "cell_type": "code",
   "execution_count": 1,
   "id": "75f20142",
   "metadata": {},
   "outputs": [
    {
     "name": "stdout",
     "output_type": "stream",
     "text": [
      "Subfilelds in AI are:\n",
      "Machine Learning\n",
      "Neural Networks\n",
      "Vision\n",
      "Robotics\n",
      "Speech Processing\n",
      "Natural Language Processing\n"
     ]
    }
   ],
   "source": [
    "def subfields():\n",
    "    name=input(\"Subfilelds in AI are:\")\n",
    "    print(\"Machine Learning\")\n",
    "    print(\"Neural Networks\")\n",
    "    print(\"Vision\")\n",
    "    print(\"Robotics\")\n",
    "    print(\"Speech Processing\")\n",
    "    print(\"Natural Language Processing\")\n",
    "subfields()"
   ]
  },
  {
   "cell_type": "code",
   "execution_count": 4,
   "id": "04283a83",
   "metadata": {},
   "outputs": [
    {
     "name": "stdout",
     "output_type": "stream",
     "text": [
      "Enter a number:52452\n",
      "52452 is even number\n"
     ]
    }
   ],
   "source": [
    "def oddeven():\n",
    "    num=int(input(\"Enter a number:\"))\n",
    "    if((num%2)==0):\n",
    "        print(num,\"is even number\")\n",
    "    else:\n",
    "        print(num,\"is odd number\")\n",
    "oddeven()        "
   ]
  },
  {
   "cell_type": "code",
   "execution_count": 1,
   "id": "5dc34414",
   "metadata": {},
   "outputs": [
    {
     "name": "stdout",
     "output_type": "stream",
     "text": [
      "Your gender:Male\n",
      "Your age:20\n",
      "NOT ELIGIBLE\n"
     ]
    }
   ],
   "source": [
    "def EliorNot():\n",
    "    gen=input(\"Your gender:\")\n",
    "    age=int(input(\"Your age:\"))\n",
    "    if(gen==\"Male\"):\n",
    "        if(age<21):\n",
    "            print(\"NOT ELIGIBLE\")\n",
    "        else:\n",
    "            print(\"ELIGIBLE\")\n",
    "    elif(gen==\"Female\"):\n",
    "        if(age<21):\n",
    "            print(\"NOT ELIGIBLE\")\n",
    "        else:\n",
    "            print(\"ELIGIBLE\")\n",
    "EliorNot()"
   ]
  },
  {
   "cell_type": "code",
   "execution_count": 5,
   "id": "45e51006",
   "metadata": {},
   "outputs": [
    {
     "name": "stdout",
     "output_type": "stream",
     "text": [
      "subject1=98\n",
      "subject2=87\n",
      "subject3=95\n",
      "subject3=95\n",
      "subject3=93\n",
      "Total: 468\n",
      "Percentage is:  93.60000000000001\n"
     ]
    }
   ],
   "source": [
    "def percentage():\n",
    "    subject1=98\n",
    "    print(\"subject1=98\")\n",
    "    subject2=87\n",
    "    print(\"subject2=87\")\n",
    "    subject3=95\n",
    "    print(\"subject3=95\")\n",
    "    subject4=95\n",
    "    print(\"subject3=95\")\n",
    "    subject5=93\n",
    "    print(\"subject3=93\")\n",
    "    Marks=subject1+subject2+subject3+subject4+subject5\n",
    "    print(\"Total:\",Marks)\n",
    "    per=float(Marks)*(100/500)\n",
    "    print(\"Percentage is: \",per)\n",
    "percentage()"
   ]
  },
  {
   "cell_type": "code",
   "execution_count": 12,
   "id": "c4b8247c",
   "metadata": {},
   "outputs": [
    {
     "name": "stdout",
     "output_type": "stream",
     "text": [
      "Height:32\n",
      "Breadth:34\n",
      "Area of Triangle: 544.0\n",
      "Height1:2\n",
      "Height2:4\n",
      "Breadth:4\n",
      "Perimeter of Triangle: 10\n"
     ]
    }
   ],
   "source": [
    "def size():\n",
    "    Height=int(input(\"Height:\"))\n",
    "    Breadth=int(input(\"Breadth:\"))\n",
    "    Area=(Height*Breadth)/2\n",
    "    print(\"Area of Triangle:\",Area)\n",
    "    Height1=int(input(\"Height1:\"))\n",
    "    Height2=int(input(\"Height2:\"))\n",
    "    Breadth=int(input(\"Breadth:\"))\n",
    "    peri=(Height1+Height2+Breadth)\n",
    "    print(\"Perimeter of Triangle:\",peri)\n",
    "size()"
   ]
  },
  {
   "cell_type": "code",
   "execution_count": null,
   "id": "e1187a26",
   "metadata": {},
   "outputs": [],
   "source": []
  }
 ],
 "metadata": {
  "kernelspec": {
   "display_name": "Python 3 (ipykernel)",
   "language": "python",
   "name": "python3"
  },
  "language_info": {
   "codemirror_mode": {
    "name": "ipython",
    "version": 3
   },
   "file_extension": ".py",
   "mimetype": "text/x-python",
   "name": "python",
   "nbconvert_exporter": "python",
   "pygments_lexer": "ipython3",
   "version": "3.11.5"
  }
 },
 "nbformat": 4,
 "nbformat_minor": 5
}
