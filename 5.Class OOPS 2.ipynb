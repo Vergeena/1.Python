{
 "cells": [
  {
   "cell_type": "code",
   "execution_count": 2,
   "id": "7bc7924b",
   "metadata": {},
   "outputs": [],
   "source": [
    "from multipleFunctions import Multifunction\n",
    "#from filename import class name"
   ]
  },
  {
   "cell_type": "code",
   "execution_count": 3,
   "id": "05ef953e",
   "metadata": {},
   "outputs": [
    {
     "name": "stdout",
     "output_type": "stream",
     "text": [
      "Enter the BMI index:24\n",
      "Normal Range\n"
     ]
    },
    {
     "data": {
      "text/plain": [
       "'Normal Range'"
      ]
     },
     "execution_count": 3,
     "metadata": {},
     "output_type": "execute_result"
    }
   ],
   "source": [
    "Multifunction.num()\n",
    "#class name.function name()"
   ]
  },
  {
   "cell_type": "code",
   "execution_count": 5,
   "id": "cfe38649",
   "metadata": {},
   "outputs": [
    {
     "name": "stdout",
     "output_type": "stream",
     "text": [
      "Enter the number whether it even or odd:24\n",
      "The number is even number\n"
     ]
    },
    {
     "data": {
      "text/plain": [
       "'even number'"
      ]
     },
     "execution_count": 5,
     "metadata": {},
     "output_type": "execute_result"
    }
   ],
   "source": [
    "Multifunction.oddeven()"
   ]
  },
  {
   "cell_type": "code",
   "execution_count": null,
   "id": "9fd2ffc0",
   "metadata": {},
   "outputs": [],
   "source": []
  }
 ],
 "metadata": {
  "kernelspec": {
   "display_name": "Python 3 (ipykernel)",
   "language": "python",
   "name": "python3"
  },
  "language_info": {
   "codemirror_mode": {
    "name": "ipython",
    "version": 3
   },
   "file_extension": ".py",
   "mimetype": "text/x-python",
   "name": "python",
   "nbconvert_exporter": "python",
   "pygments_lexer": "ipython3",
   "version": "3.11.5"
  }
 },
 "nbformat": 4,
 "nbformat_minor": 5
}
