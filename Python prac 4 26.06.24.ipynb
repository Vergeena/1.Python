{
 "cells": [
  {
   "cell_type": "code",
   "execution_count": 1,
   "id": "386342bd",
   "metadata": {},
   "outputs": [],
   "source": [
    "def subfields():\n",
    "    name=input(\"Subfilelds in AI are:\")\n",
    "    print(\"Machine Learning\")\n",
    "    print(\"Neural Networks\")\n",
    "    print(\"Vision\")\n",
    "    print(\"Robotics\")\n",
    "    print(\"Speech Processing\")\n",
    "    print(\"Natural Language Processing\")"
   ]
  },
  {
   "cell_type": "code",
   "execution_count": 2,
   "id": "49ded730",
   "metadata": {},
   "outputs": [
    {
     "name": "stdout",
     "output_type": "stream",
     "text": [
      "Subfilelds in AI are:\n",
      "Machine Learning\n",
      "Neural Networks\n",
      "Vision\n",
      "Robotics\n",
      "Speech Processing\n",
      "Natural Language Processing\n"
     ]
    }
   ],
   "source": [
    "subfields()"
   ]
  },
  {
   "cell_type": "code",
   "execution_count": 4,
   "id": "3177f156",
   "metadata": {},
   "outputs": [],
   "source": [
    "def Oddeven():    \n",
    "    num=int(input(\"Enter a number:\"))\n",
    "    if((num%2)==0):\n",
    "        print(num,\"is even number\")\n",
    "    else:\n",
    "        print(num,\"is odd number\")"
   ]
  },
  {
   "cell_type": "code",
   "execution_count": 6,
   "id": "2646ccc4",
   "metadata": {},
   "outputs": [
    {
     "name": "stdout",
     "output_type": "stream",
     "text": [
      "Enter a number:52452\n",
      "52452 is even number\n"
     ]
    }
   ],
   "source": [
    "Oddeven()"
   ]
  },
  {
   "cell_type": "code",
   "execution_count": 7,
   "id": "2614d7ea",
   "metadata": {},
   "outputs": [],
   "source": [
    "def EligibleorNot():\n",
    "    gen=input(\"Your gender:\")\n",
    "    age=int(input(\"Your age:\"))\n",
    "    if(gen==\"Male\"):\n",
    "        if(age<21):\n",
    "            print(\"Not Eligible\")\n",
    "        else:\n",
    "            print(\"Eligible\")\n",
    "    if(gen==\"Female\"):\n",
    "        if(age<21):\n",
    "            print(\"Not Eligible\")\n",
    "        else:\n",
    "            print(\"Eligible\")"
   ]
  },
  {
   "cell_type": "code",
   "execution_count": 8,
   "id": "0e9a50bc",
   "metadata": {},
   "outputs": [
    {
     "name": "stdout",
     "output_type": "stream",
     "text": [
      "Your gender:Male\n",
      "Your age:28\n",
      "Eligible\n"
     ]
    }
   ],
   "source": [
    "EligibleorNot()"
   ]
  },
  {
   "cell_type": "code",
   "execution_count": 9,
   "id": "8de6cf83",
   "metadata": {},
   "outputs": [
    {
     "name": "stdout",
     "output_type": "stream",
     "text": [
      "Your gender:Female\n",
      "Your age:15\n",
      "Not Eligible\n"
     ]
    }
   ],
   "source": [
    "EligibleorNot()"
   ]
  },
  {
   "cell_type": "code",
   "execution_count": 18,
   "id": "7b3cd6fd",
   "metadata": {},
   "outputs": [],
   "source": [
    "def sub():\n",
    "    subject1=98\n",
    "    print(\"subject1=98\")\n",
    "    subject2=87\n",
    "    print(\"subject2=87\")\n",
    "    subject3=95\n",
    "    print(\"subject3=95\")\n",
    "    subject4=95\n",
    "    print(\"subject4=95\")\n",
    "    subject5=93\n",
    "    print(\"subject5=93\")\n",
    "    Marks=subject1+subject2+subject3+subject4+subject5\n",
    "    print(\"Total:\",Marks)\n",
    "    print(\"Percentage is :\",(Marks/500)*100)"
   ]
  },
  {
   "cell_type": "code",
   "execution_count": 19,
   "id": "ec5a7aba",
   "metadata": {},
   "outputs": [
    {
     "name": "stdout",
     "output_type": "stream",
     "text": [
      "subject1=98\n",
      "subject2=87\n",
      "subject3=95\n",
      "subject4=95\n",
      "subject5=93\n",
      "Total: 468\n",
      "Percentage is : 93.60000000000001\n"
     ]
    }
   ],
   "source": [
    "sub()"
   ]
  },
  {
   "cell_type": "code",
   "execution_count": 34,
   "id": "7715c46a",
   "metadata": {},
   "outputs": [],
   "source": [
    "def Tri():\n",
    "    H=int(input(\"Height:\"))\n",
    "    B=int(input(\"Breadth:\"))\n",
    "    Area=(H*B)/2\n",
    "    print(\"Area of Triangle:\",Area)\n",
    "    H1=int(input(\"Height1:\"))\n",
    "    H2=int(input(\"Height2:\"))\n",
    "    B1=int(input(\"Breadth1:\"))\n",
    "    Per=(H1+H2+B1)\n",
    "    print(\"Perimeter of Triangle:\",Per)"
   ]
  },
  {
   "cell_type": "code",
   "execution_count": 35,
   "id": "3125eefe",
   "metadata": {},
   "outputs": [
    {
     "name": "stdout",
     "output_type": "stream",
     "text": [
      "Height:32\n",
      "Breadth:34\n",
      "Area of Triangle: 544.0\n",
      "Height1:2\n",
      "Height2:4\n",
      "Breadth1:4\n",
      "Perimeter of Triangle: 10\n"
     ]
    }
   ],
   "source": [
    "Tri()"
   ]
  },
  {
   "cell_type": "code",
   "execution_count": 1,
   "id": "3e068c9c",
   "metadata": {},
   "outputs": [
    {
     "name": "stdout",
     "output_type": "stream",
     "text": [
      "0\n",
      "1\n",
      "2\n",
      "3\n",
      "4\n",
      "5\n",
      "6\n",
      "7\n",
      "8\n",
      "9\n",
      "10\n",
      "11\n",
      "12\n",
      "13\n",
      "14\n",
      "15\n",
      "16\n",
      "17\n",
      "18\n",
      "19\n"
     ]
    }
   ],
   "source": [
    "range(0,20)\n",
    "for num in range(0,20):\n",
    "    print(num)"
   ]
  },
  {
   "cell_type": "code",
   "execution_count": null,
   "id": "b97b09c4",
   "metadata": {},
   "outputs": [],
   "source": [
    "#for Vertical"
   ]
  },
  {
   "cell_type": "code",
   "execution_count": 2,
   "id": "927a0fd5",
   "metadata": {},
   "outputs": [
    {
     "name": "stdout",
     "output_type": "stream",
     "text": [
      "10\n",
      "11\n",
      "12\n",
      "13\n",
      "14\n",
      "15\n",
      "16\n",
      "17\n",
      "18\n",
      "19\n"
     ]
    }
   ],
   "source": [
    "for num in range(10,20):\n",
    "    print(num)"
   ]
  },
  {
   "cell_type": "code",
   "execution_count": null,
   "id": "8b0c9859",
   "metadata": {},
   "outputs": [],
   "source": [
    "#for Horizontal used end='' , ' '  single quotation in b/w space used for number space"
   ]
  },
  {
   "cell_type": "code",
   "execution_count": 6,
   "id": "1d47e990",
   "metadata": {},
   "outputs": [
    {
     "name": "stdout",
     "output_type": "stream",
     "text": [
      "10 11 12 13 14 15 16 17 18 19 "
     ]
    }
   ],
   "source": [
    "for num in range(10,20):\n",
    "    print(num,end=' ')"
   ]
  },
  {
   "cell_type": "code",
   "execution_count": null,
   "id": "3364b2a9",
   "metadata": {},
   "outputs": [],
   "source": [
    "#wrong"
   ]
  },
  {
   "cell_type": "code",
   "execution_count": 13,
   "id": "314e8256",
   "metadata": {},
   "outputs": [
    {
     "name": "stdout",
     "output_type": "stream",
     "text": [
      "10 Number of items in list: 7\n",
      "20 Number of items in list: 7\n",
      "4 Number of items in list: 7\n",
      "55 Number of items in list: 7\n",
      "43 Number of items in list: 7\n",
      "87 Number of items in list: 7\n",
      "76 Number of items in list: 7\n"
     ]
    }
   ],
   "source": [
    "list=[10,20,4,55,43,87,76]\n",
    "for num in list:\n",
    "    print(num,end=' ')\n",
    "    num=len(list)\n",
    "    print(\"Number of items in list:\",num)"
   ]
  },
  {
   "cell_type": "code",
   "execution_count": null,
   "id": "443be048",
   "metadata": {},
   "outputs": [],
   "source": [
    "#Right - in this indentation plays a role(space before num is not correct)"
   ]
  },
  {
   "cell_type": "code",
   "execution_count": 14,
   "id": "7357287b",
   "metadata": {},
   "outputs": [
    {
     "name": "stdout",
     "output_type": "stream",
     "text": [
      "10 20 4 55 43 87 76 Number of items in list: 7\n"
     ]
    }
   ],
   "source": [
    "list=[10,20,4,55,43,87,76]\n",
    "for num in list:\n",
    "    print(num,end=' ')\n",
    "num=len(list)\n",
    "print(\"Number of items in list:\",num)"
   ]
  },
  {
   "cell_type": "code",
   "execution_count": null,
   "id": "bfacb227",
   "metadata": {},
   "outputs": [],
   "source": [
    "#String - need vertically "
   ]
  },
  {
   "cell_type": "code",
   "execution_count": 15,
   "id": "0aa815b1",
   "metadata": {},
   "outputs": [
    {
     "name": "stdout",
     "output_type": "stream",
     "text": [
      "Vergeena Devi\n"
     ]
    }
   ],
   "source": [
    "string=\"Vergeena Devi\"\n",
    "print(string)"
   ]
  },
  {
   "cell_type": "code",
   "execution_count": 18,
   "id": "e12cda12",
   "metadata": {},
   "outputs": [
    {
     "name": "stdout",
     "output_type": "stream",
     "text": [
      "Vergeena Devi\n",
      "V\n",
      "e\n",
      "r\n",
      "g\n",
      "e\n",
      "e\n",
      "n\n",
      "a\n",
      " \n",
      "D\n",
      "e\n",
      "v\n",
      "i\n"
     ]
    }
   ],
   "source": [
    "string=\"Vergeena Devi\"\n",
    "print(string)\n",
    "for name in range(0,len(string)):\n",
    "    print(string[name])"
   ]
  },
  {
   "cell_type": "code",
   "execution_count": 20,
   "id": "3cbc5aee",
   "metadata": {},
   "outputs": [
    {
     "name": "stdout",
     "output_type": "stream",
     "text": [
      "Esther Chandra\n",
      "E\n",
      "s\n",
      "t\n",
      "h\n",
      "e\n",
      "r\n",
      " \n",
      "C\n",
      "h\n",
      "a\n",
      "n\n",
      "d\n",
      "r\n",
      "a\n"
     ]
    }
   ],
   "source": [
    "string=\"Esther Chandra\"\n",
    "print(string)\n",
    "for n in range(0,len(string)):\n",
    "    print(string[n])"
   ]
  },
  {
   "cell_type": "code",
   "execution_count": 22,
   "id": "464d7295",
   "metadata": {},
   "outputs": [
    {
     "name": "stdout",
     "output_type": "stream",
     "text": [
      "Devi Ma\n",
      "D\n",
      "e\n",
      "v\n",
      "i\n",
      " \n",
      "M\n",
      "a\n"
     ]
    }
   ],
   "source": [
    "string=\"Devi Ma\"\n",
    "print(string)\n",
    "for l in range(0,len(string)):\n",
    "    print(string[l])"
   ]
  },
  {
   "cell_type": "code",
   "execution_count": 23,
   "id": "a4a61846",
   "metadata": {},
   "outputs": [
    {
     "name": "stdout",
     "output_type": "stream",
     "text": [
      "-your name-\n",
      "-your age-\n",
      "-your proffession-\n"
     ]
    }
   ],
   "source": [
    "print(\"-your name-\")\n",
    "print(\"-your age-\")\n",
    "print(\"-your proffession-\")"
   ]
  },
  {
   "cell_type": "code",
   "execution_count": 24,
   "id": "4419ec4a",
   "metadata": {},
   "outputs": [
    {
     "name": "stdout",
     "output_type": "stream",
     "text": [
      "(1, 'Welcome', 2, 'Hope')\n"
     ]
    }
   ],
   "source": [
    "tuple=(1, 'Welcome', 2, 'Hope')\n",
    "print(tuple)"
   ]
  },
  {
   "cell_type": "code",
   "execution_count": 26,
   "id": "5f41d80d",
   "metadata": {},
   "outputs": [
    {
     "name": "stdout",
     "output_type": "stream",
     "text": [
      "((0, 1, 2, 3), ('Python', 'HOPE'))\n"
     ]
    }
   ],
   "source": [
    "tuple1=(0, 1, 2, 3)\n",
    "tuple2=('Python', 'HOPE')\n",
    "print((tuple1,tuple2))"
   ]
  },
  {
   "cell_type": "code",
   "execution_count": 27,
   "id": "6b5a79ad",
   "metadata": {},
   "outputs": [
    {
     "name": "stdout",
     "output_type": "stream",
     "text": [
      "((0, 1, 2, 3), ('Python', 'HOPE'))\n"
     ]
    }
   ],
   "source": [
    "tuple1=(0, 1, 2, 3)\n",
    "tuple2=('Python', 'HOPE')\n",
    "tuple3=(tuple1,tuple2)\n",
    "print(tuple3)"
   ]
  },
  {
   "cell_type": "code",
   "execution_count": 29,
   "id": "2ab37ba8",
   "metadata": {},
   "outputs": [
    {
     "name": "stdout",
     "output_type": "stream",
     "text": [
      "(20, 10, 16, 19, 25, 1, 276, 188)\n",
      "19 is odd\n",
      "25 is odd\n",
      "1 is odd\n"
     ]
    }
   ],
   "source": [
    "tuplelists=(20, 10, 16, 19, 25, 1, 276, 188)\n",
    "print(tuplelists)\n",
    "for num in tuplelists:\n",
    "    if num%2==1:\n",
    "        print(num,\"is odd\")    "
   ]
  },
  {
   "cell_type": "code",
   "execution_count": 31,
   "id": "8ed6d4eb",
   "metadata": {},
   "outputs": [
    {
     "name": "stdout",
     "output_type": "stream",
     "text": [
      "(20, 10, 16, 19, 25, 1, 276, 188)\n",
      "20 is even\n",
      "10 is even\n",
      "16 is even\n",
      "276 is even\n",
      "188 is even\n"
     ]
    }
   ],
   "source": [
    "tuplelists2=(20, 10, 16, 19, 25, 1, 276, 188)\n",
    "print(tuplelists2)\n",
    "for num in tuplelists2:\n",
    "    if num%2==0:\n",
    "        print(num,\"is even\")"
   ]
  },
  {
   "cell_type": "code",
   "execution_count": null,
   "id": "2733952e",
   "metadata": {},
   "outputs": [],
   "source": []
  }
 ],
 "metadata": {
  "kernelspec": {
   "display_name": "Python 3 (ipykernel)",
   "language": "python",
   "name": "python3"
  },
  "language_info": {
   "codemirror_mode": {
    "name": "ipython",
    "version": 3
   },
   "file_extension": ".py",
   "mimetype": "text/x-python",
   "name": "python",
   "nbconvert_exporter": "python",
   "pygments_lexer": "ipython3",
   "version": "3.7.6"
  }
 },
 "nbformat": 4,
 "nbformat_minor": 5
}
