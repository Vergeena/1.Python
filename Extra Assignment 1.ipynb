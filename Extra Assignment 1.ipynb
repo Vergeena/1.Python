{
 "cells": [
  {
   "cell_type": "code",
   "execution_count": 1,
   "id": "5be62b2f",
   "metadata": {},
   "outputs": [
    {
     "name": "stdout",
     "output_type": "stream",
     "text": [
      "HOPE AI\n"
     ]
    }
   ],
   "source": [
    "print(\"HOPE AI\")"
   ]
  },
  {
   "cell_type": "code",
   "execution_count": 2,
   "id": "7b8b6899",
   "metadata": {},
   "outputs": [
    {
     "name": "stdout",
     "output_type": "stream",
     "text": [
      "Enter the institute name?:HOPE AI\n"
     ]
    }
   ],
   "source": [
    "name=input(\"Enter the institute name?:\")"
   ]
  },
  {
   "cell_type": "code",
   "execution_count": 4,
   "id": "da787c9b",
   "metadata": {},
   "outputs": [
    {
     "name": "stdout",
     "output_type": "stream",
     "text": [
      "Enter your name:jee\n",
      "Enter your age:29\n",
      "Enter your school name:Our lady\n",
      "Enter your drgree:B.E(EEE)\n"
     ]
    }
   ],
   "source": [
    "name=input(\"Enter your name:\")\n",
    "name=int(input(\"Enter your age:\"))\n",
    "name=input(\"Enter your school name:\")\n",
    "name=input(\"Enter your drgree:\")"
   ]
  },
  {
   "cell_type": "code",
   "execution_count": 9,
   "id": "051b49f8",
   "metadata": {},
   "outputs": [
    {
     "name": "stdout",
     "output_type": "stream",
     "text": [
      "a=43\n",
      "b=34\n",
      "add= 77\n"
     ]
    }
   ],
   "source": [
    "a=43\n",
    "print(\"a=43\")\n",
    "b=34\n",
    "print(\"b=34\")\n",
    "add=(a+b)\n",
    "print(\"add=\",add)"
   ]
  },
  {
   "cell_type": "code",
   "execution_count": 10,
   "id": "796dfe11",
   "metadata": {},
   "outputs": [
    {
     "name": "stdout",
     "output_type": "stream",
     "text": [
      "a=43\n",
      "b=34\n",
      "sub= 9\n"
     ]
    }
   ],
   "source": [
    "a=43\n",
    "print(\"a=43\")\n",
    "b=34\n",
    "print(\"b=34\")\n",
    "sub=(a-b)\n",
    "print(\"sub=\",sub)"
   ]
  },
  {
   "cell_type": "code",
   "execution_count": 11,
   "id": "531d7f10",
   "metadata": {},
   "outputs": [
    {
     "name": "stdout",
     "output_type": "stream",
     "text": [
      "a=63\n",
      "b=97\n",
      "mul= 6111\n"
     ]
    }
   ],
   "source": [
    "a=63\n",
    "print(\"a=63\")\n",
    "b=97\n",
    "print(\"b=97\")\n",
    "mul=(a*b)\n",
    "print(\"mul=\",mul)"
   ]
  },
  {
   "cell_type": "code",
   "execution_count": 12,
   "id": "4e5f39a5",
   "metadata": {},
   "outputs": [
    {
     "name": "stdout",
     "output_type": "stream",
     "text": [
      "a=76\n",
      "b=31\n",
      "Float div= 2.4516129032258065\n"
     ]
    }
   ],
   "source": [
    "a=76\n",
    "print(\"a=76\")\n",
    "b=31\n",
    "print(\"b=31\")\n",
    "div=a/b\n",
    "print(\"Float div=\",div)"
   ]
  },
  {
   "cell_type": "code",
   "execution_count": 13,
   "id": "12e42a06",
   "metadata": {},
   "outputs": [
    {
     "name": "stdout",
     "output_type": "stream",
     "text": [
      "a= 76\n",
      "b= 31\n",
      "Floor div= 2\n"
     ]
    }
   ],
   "source": [
    "a=76\n",
    "b=31\n",
    "fdiv=a//b\n",
    "print(\"a=\",a)\n",
    "print(\"b=\",b)\n",
    "print(\"Floor div=\",fdiv)"
   ]
  },
  {
   "cell_type": "code",
   "execution_count": 14,
   "id": "a8cb2945",
   "metadata": {},
   "outputs": [
    {
     "name": "stdout",
     "output_type": "stream",
     "text": [
      "a= 76\n",
      "b= 31\n",
      "modulo= 14\n"
     ]
    }
   ],
   "source": [
    "a=76\n",
    "b=31\n",
    "mod=a%b\n",
    "print(\"a=\",a)\n",
    "print(\"b=\",b)\n",
    "print(\"modulo=\",mod)"
   ]
  },
  {
   "cell_type": "code",
   "execution_count": 16,
   "id": "e3fbeaf4",
   "metadata": {},
   "outputs": [
    {
     "name": "stdout",
     "output_type": "stream",
     "text": [
      "a= 4\n",
      "b= 4\n",
      "power= 256\n"
     ]
    }
   ],
   "source": [
    "a=4\n",
    "b=4\n",
    "power=a**b\n",
    "print(\"a=\",a)\n",
    "print(\"b=\",b)\n",
    "print(\"power=\",power)"
   ]
  },
  {
   "cell_type": "code",
   "execution_count": 18,
   "id": "9fd3150d",
   "metadata": {},
   "outputs": [
    {
     "name": "stdout",
     "output_type": "stream",
     "text": [
      "a= 4\n",
      "b= 4\n",
      "power= 256\n"
     ]
    }
   ],
   "source": [
    "a=4\n",
    "b=4\n",
    "power=pow(4,4)\n",
    "print(\"a=\",a)\n",
    "print(\"b=\",b)\n",
    "print(\"power=\",power)"
   ]
  },
  {
   "cell_type": "code",
   "execution_count": null,
   "id": "c87d46ec",
   "metadata": {},
   "outputs": [],
   "source": []
  }
 ],
 "metadata": {
  "kernelspec": {
   "display_name": "Python 3 (ipykernel)",
   "language": "python",
   "name": "python3"
  },
  "language_info": {
   "codemirror_mode": {
    "name": "ipython",
    "version": 3
   },
   "file_extension": ".py",
   "mimetype": "text/x-python",
   "name": "python",
   "nbconvert_exporter": "python",
   "pygments_lexer": "ipython3",
   "version": "3.11.5"
  }
 },
 "nbformat": 4,
 "nbformat_minor": 5
}
