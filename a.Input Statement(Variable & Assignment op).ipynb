{
 "cells": [
  {
   "cell_type": "code",
   "execution_count": 1,
   "id": "efd8c83a",
   "metadata": {},
   "outputs": [
    {
     "name": "stdout",
     "output_type": "stream",
     "text": [
      "Enter the num1:20\n"
     ]
    }
   ],
   "source": [
    "num1=input(\"Enter the num1:\")"
   ]
  },
  {
   "cell_type": "code",
   "execution_count": 2,
   "id": "0c617728",
   "metadata": {},
   "outputs": [
    {
     "name": "stdout",
     "output_type": "stream",
     "text": [
      "Enter the num2:30\n"
     ]
    }
   ],
   "source": [
    "num2=input(\"Enter the num2:\")"
   ]
  },
  {
   "cell_type": "code",
   "execution_count": 3,
   "id": "b9944788",
   "metadata": {},
   "outputs": [],
   "source": [
    "add=num1+num2"
   ]
  },
  {
   "cell_type": "code",
   "execution_count": 4,
   "id": "cc1c665e",
   "metadata": {},
   "outputs": [
    {
     "name": "stdout",
     "output_type": "stream",
     "text": [
      "2030\n"
     ]
    }
   ],
   "source": [
    "print(add)"
   ]
  },
  {
   "cell_type": "code",
   "execution_count": 5,
   "id": "fdb3f183",
   "metadata": {},
   "outputs": [
    {
     "name": "stdout",
     "output_type": "stream",
     "text": [
      "Enter the num1:20\n"
     ]
    }
   ],
   "source": [
    "num1=int(input(\"Enter the num1:\"))"
   ]
  },
  {
   "cell_type": "code",
   "execution_count": 6,
   "id": "6e91a6b4",
   "metadata": {},
   "outputs": [
    {
     "name": "stdout",
     "output_type": "stream",
     "text": [
      "Enter the num2:30\n"
     ]
    }
   ],
   "source": [
    "num2=int(input(\"Enter the num2:\"))"
   ]
  },
  {
   "cell_type": "code",
   "execution_count": 7,
   "id": "7ce0ec14",
   "metadata": {},
   "outputs": [],
   "source": [
    "add=num1+num2"
   ]
  },
  {
   "cell_type": "code",
   "execution_count": 8,
   "id": "71e38e11",
   "metadata": {},
   "outputs": [
    {
     "name": "stdout",
     "output_type": "stream",
     "text": [
      "50\n"
     ]
    }
   ],
   "source": [
    "print(add)"
   ]
  },
  {
   "cell_type": "code",
   "execution_count": 9,
   "id": "0f565f2f",
   "metadata": {},
   "outputs": [
    {
     "name": "stdout",
     "output_type": "stream",
     "text": [
      "Enter the num1:20\n"
     ]
    }
   ],
   "source": [
    "num1=int(input(\"Enter the num1:\"))"
   ]
  },
  {
   "cell_type": "code",
   "execution_count": 10,
   "id": "f1f69248",
   "metadata": {},
   "outputs": [
    {
     "name": "stdout",
     "output_type": "stream",
     "text": [
      "Enter the num2:30\n"
     ]
    }
   ],
   "source": [
    "num2=int(input(\"Enter the num2:\"))"
   ]
  },
  {
   "cell_type": "code",
   "execution_count": 15,
   "id": "07bd3756",
   "metadata": {},
   "outputs": [],
   "source": [
    "add=num1+num2\n"
   ]
  },
  {
   "cell_type": "code",
   "execution_count": 16,
   "id": "8a7afc39",
   "metadata": {},
   "outputs": [],
   "source": [
    "mul=7"
   ]
  },
  {
   "cell_type": "code",
   "execution_count": 17,
   "id": "ce0c839e",
   "metadata": {},
   "outputs": [
    {
     "name": "stdout",
     "output_type": "stream",
     "text": [
      "50\n",
      "7\n"
     ]
    }
   ],
   "source": [
    "print(add)\n",
    "print(mul)"
   ]
  },
  {
   "cell_type": "code",
   "execution_count": null,
   "id": "9d605e3b",
   "metadata": {},
   "outputs": [],
   "source": []
  }
 ],
 "metadata": {
  "kernelspec": {
   "display_name": "Python 3 (ipykernel)",
   "language": "python",
   "name": "python3"
  },
  "language_info": {
   "codemirror_mode": {
    "name": "ipython",
    "version": 3
   },
   "file_extension": ".py",
   "mimetype": "text/x-python",
   "name": "python",
   "nbconvert_exporter": "python",
   "pygments_lexer": "ipython3",
   "version": "3.11.5"
  }
 },
 "nbformat": 4,
 "nbformat_minor": 5
}
