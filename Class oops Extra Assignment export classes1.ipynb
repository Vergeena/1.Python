{
 "cells": [
  {
   "cell_type": "code",
   "execution_count": 8,
   "id": "33522299",
   "metadata": {},
   "outputs": [],
   "source": [
    "from assignMultifunctions import moFunctions"
   ]
  },
  {
   "cell_type": "code",
   "execution_count": 9,
   "id": "705f54a7",
   "metadata": {},
   "outputs": [
    {
     "name": "stdout",
     "output_type": "stream",
     "text": [
      "Enter a number:52452\n",
      "52452 is even number\n"
     ]
    }
   ],
   "source": [
    "moFunctions.oddeven()"
   ]
  },
  {
   "cell_type": "code",
   "execution_count": 10,
   "id": "441d8ff4",
   "metadata": {},
   "outputs": [
    {
     "name": "stdout",
     "output_type": "stream",
     "text": [
      "Subfilelds in AI are:\n",
      "Machine Learning\n",
      "Neural Networks\n",
      "Vision\n",
      "Robotics\n",
      "Speech Processing\n",
      "Natural Language Processing\n"
     ]
    }
   ],
   "source": [
    "moFunctions.subfields()"
   ]
  },
  {
   "cell_type": "code",
   "execution_count": 12,
   "id": "762de838",
   "metadata": {},
   "outputs": [
    {
     "name": "stdout",
     "output_type": "stream",
     "text": [
      "Your gender:Male\n",
      "Your age:20\n",
      "NOT ELIGIBLE\n"
     ]
    }
   ],
   "source": [
    "moFunctions.EliorNot()"
   ]
  },
  {
   "cell_type": "code",
   "execution_count": 13,
   "id": "9ffcccb1",
   "metadata": {},
   "outputs": [
    {
     "name": "stdout",
     "output_type": "stream",
     "text": [
      "subject1=98\n",
      "subject2=87\n",
      "subject3=95\n",
      "subject3=95\n",
      "subject3=93\n",
      "Total: 468\n",
      "Percentage is:  93.60000000000001\n"
     ]
    }
   ],
   "source": [
    "moFunctions.percentage()"
   ]
  },
  {
   "cell_type": "code",
   "execution_count": 14,
   "id": "5db9842b",
   "metadata": {},
   "outputs": [
    {
     "name": "stdout",
     "output_type": "stream",
     "text": [
      "Height:32\n",
      "Breadth:34\n",
      "Area of Triangle: 544.0\n",
      "Height1:2\n",
      "Height2:4\n",
      "Breadth:4\n",
      "Perimeter of Triangle: 10\n"
     ]
    }
   ],
   "source": [
    "moFunctions.size()"
   ]
  },
  {
   "cell_type": "code",
   "execution_count": null,
   "id": "8facdd1e",
   "metadata": {},
   "outputs": [],
   "source": []
  }
 ],
 "metadata": {
  "kernelspec": {
   "display_name": "Python 3 (ipykernel)",
   "language": "python",
   "name": "python3"
  },
  "language_info": {
   "codemirror_mode": {
    "name": "ipython",
    "version": 3
   },
   "file_extension": ".py",
   "mimetype": "text/x-python",
   "name": "python",
   "nbconvert_exporter": "python",
   "pygments_lexer": "ipython3",
   "version": "3.11.5"
  }
 },
 "nbformat": 4,
 "nbformat_minor": 5
}
