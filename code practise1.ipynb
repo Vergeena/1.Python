{
 "cells": [
  {
   "cell_type": "code",
   "execution_count": 1,
   "id": "56d63cdf",
   "metadata": {},
   "outputs": [
    {
     "name": "stdout",
     "output_type": "stream",
     "text": [
      "H\n",
      "o\n",
      "p\n",
      "e\n"
     ]
    }
   ],
   "source": [
    "#vertical name\n",
    "string=\"Hope\"\n",
    "for ai in range(0,len(string)):\n",
    "    print(string[ai])"
   ]
  },
  {
   "cell_type": "code",
   "execution_count": 2,
   "id": "07567a5b",
   "metadata": {},
   "outputs": [
    {
     "name": "stdout",
     "output_type": "stream",
     "text": [
      "Hope\n",
      "H\n",
      "o\n",
      "p\n",
      "e\n"
     ]
    }
   ],
   "source": [
    "#Horizontal &vertical name\n",
    "string=\"Hope\"\n",
    "print(string)\n",
    "for ai in range(0,len(string)):\n",
    "    print(string[ai])"
   ]
  },
  {
   "cell_type": "code",
   "execution_count": 6,
   "id": "b9cfaf99",
   "metadata": {},
   "outputs": [
    {
     "name": "stdout",
     "output_type": "stream",
     "text": [
      "((16, 1), (23, 1))\n"
     ]
    }
   ],
   "source": [
    "tuple1=(16,1)\n",
    "tuple2=(23,1)\n",
    "print((tuple1,tuple2))"
   ]
  },
  {
   "cell_type": "code",
   "execution_count": 5,
   "id": "b8280e14",
   "metadata": {},
   "outputs": [
    {
     "name": "stdout",
     "output_type": "stream",
     "text": [
      "((16, 1), (23, 1))\n"
     ]
    }
   ],
   "source": [
    "tuple1=(16,1)\n",
    "tuple2=(23,1)\n",
    "tuple=(tuple1,tuple2)\n",
    "print(tuple)"
   ]
  },
  {
   "cell_type": "code",
   "execution_count": 11,
   "id": "e6984fc3",
   "metadata": {},
   "outputs": [
    {
     "name": "stdout",
     "output_type": "stream",
     "text": [
      "[1, 2, 3, 3, 4, 5, 7]\n",
      "1 It is Odd\n",
      "2 It is Even\n",
      "3 It is Odd\n",
      "3 It is Odd\n",
      "4 It is Even\n",
      "5 It is Odd\n",
      "7 It is Odd\n"
     ]
    }
   ],
   "source": [
    "tuplelist=[1,2,3,3,4,5,7]\n",
    "print(tuplelist)\n",
    "for num in tuplelist:\n",
    "    if(num%2==1):\n",
    "        print(num,\"It is Odd\")\n",
    "    else:\n",
    "        print(num,\"It is Even\")"
   ]
  },
  {
   "cell_type": "code",
   "execution_count": 13,
   "id": "32150f08",
   "metadata": {},
   "outputs": [
    {
     "name": "stdout",
     "output_type": "stream",
     "text": [
      "   Sub1  Sub2  Sub3\n",
      "0    11    22    33\n",
      "1    44    55    66\n"
     ]
    }
   ],
   "source": [
    "# Array to dataframe\n",
    "import pandas as pd\n",
    "import numpy as np\n",
    "marks=np.array([[11,22,33],[44,55,66]])\n",
    "df=pd.DataFrame(marks,columns=['Sub1','Sub2','Sub3'])\n",
    "print(df)"
   ]
  },
  {
   "cell_type": "code",
   "execution_count": 14,
   "id": "2065621d",
   "metadata": {},
   "outputs": [
    {
     "name": "stdout",
     "output_type": "stream",
     "text": [
      "       Sub1  Sub2  Sub3\n",
      "Term1    11    22    33\n",
      "Term2    44    55    66\n"
     ]
    }
   ],
   "source": [
    "# Array to dataframe with index\n",
    "import pandas as pd\n",
    "import numpy as np\n",
    "marks=np.array([[11,22,33],[44,55,66]])\n",
    "df=pd.DataFrame(marks,columns=['Sub1','Sub2','Sub3'],index=['Term1','Term2'])\n",
    "print(df)"
   ]
  },
  {
   "cell_type": "code",
   "execution_count": 18,
   "id": "8d87605c",
   "metadata": {},
   "outputs": [
    {
     "name": "stdout",
     "output_type": "stream",
     "text": [
      "   Name Age   DOB   YOP\n",
      "0   jee  25  1995  2016\n",
      "1  devi  30  1993  2012\n",
      "2   jas  31  1992  2013\n"
     ]
    }
   ],
   "source": [
    "# Array to dataframe to get more details\n",
    "import pandas as pd\n",
    "import numpy as np\n",
    "sub_details=np.array([['jee',25,1995,2016],['devi',30,1993,2012],['jas',31,1992,2013]],dtype=object)\n",
    "df=pd.DataFrame(sub_details,columns=['Name','Age','DOB','YOP'])\n",
    "print(df)"
   ]
  },
  {
   "cell_type": "code",
   "execution_count": 21,
   "id": "20df75f0",
   "metadata": {},
   "outputs": [
    {
     "name": "stdout",
     "output_type": "stream",
     "text": [
      "   Name Age   DOB   YOP\n",
      "0   jee  25  1995  2016\n",
      "1  devi  30  1993  2012\n",
      "2   jas  31  1992  2013\n",
      "<class 'pandas.core.frame.DataFrame'>\n",
      "Name    object\n",
      "Age     object\n",
      "DOB     object\n",
      "YOP     object\n",
      "dtype: object\n"
     ]
    }
   ],
   "source": [
    "# Array to dataframe with dtypes\n",
    "import pandas as pd\n",
    "import numpy as np\n",
    "sub_details=np.array([['jee',25,1995,2016],['devi',30,1993,2012],['jas',31,1992,2013]],dtype=object)\n",
    "df=pd.DataFrame(sub_details,columns=['Name','Age','DOB','YOP'])\n",
    "print(df)\n",
    "print(type(df))\n",
    "print(df.dtypes)"
   ]
  },
  {
   "cell_type": "code",
   "execution_count": 24,
   "id": "39807804",
   "metadata": {},
   "outputs": [
    {
     "name": "stdout",
     "output_type": "stream",
     "text": [
      "   Name  Age   DOB   YOP\n",
      "0   jee   25  1995  2016\n",
      "1  devi   30  1993  2012\n",
      "2   jas   31  1992  2013\n",
      "<class 'pandas.core.frame.DataFrame'>\n",
      "Name    object\n",
      "Age      int32\n",
      "DOB      int32\n",
      "YOP      int32\n",
      "dtype: object\n"
     ]
    }
   ],
   "source": [
    "# Array to dataframe change with proper dtypes\n",
    "import pandas as pd\n",
    "import numpy as np\n",
    "sub_details=np.array([['jee',25,1995,2016],['devi',30,1993,2012],['jas',31,1992,2013]],dtype=object)\n",
    "df=pd.DataFrame(sub_details,columns=['Name','Age','DOB','YOP'])\n",
    "df['Age']=df['Age'].astype(int)\n",
    "df['DOB']=df['DOB'].astype(int)\n",
    "df['YOP']=df['YOP'].astype(int)\n",
    "print(df)\n",
    "print(type(df))\n",
    "print(df.dtypes)"
   ]
  },
  {
   "cell_type": "code",
   "execution_count": 30,
   "id": "edfd1ed3",
   "metadata": {},
   "outputs": [
    {
     "name": "stdout",
     "output_type": "stream",
     "text": [
      "   Game1  Game2  Game3\n",
      "0      1      4      7\n",
      "1      2      5      8\n",
      "2      3      6      9\n",
      "   Game1  Game2  Game3  Game4\n",
      "0      1      4      7      9\n",
      "1      2      5      8      6\n",
      "2      3      6      9      3\n"
     ]
    }
   ],
   "source": [
    "#Add array as a new column\n",
    "import pandas as pd\n",
    "import numpy as np\n",
    "\n",
    "#Create pandas Dataframe\n",
    "df=pd.DataFrame({'Game1':[1,2,3],'Game2':[4,5,6],'Game3':[7,8,9]})\n",
    "print(df)\n",
    "#Create numpy array for Game4\n",
    "Game4=np.array([9,6,3])\n",
    "\n",
    "#Add Game4 array s new column in Dataframe\n",
    "df['Game4']=Game4.tolist()\n",
    "#display dataframe\n",
    "print(df)"
   ]
  },
  {
   "cell_type": "code",
   "execution_count": 31,
   "id": "5b6a51e3",
   "metadata": {},
   "outputs": [
    {
     "name": "stdout",
     "output_type": "stream",
     "text": [
      "{'abi': 29, 'dani': 30}\n"
     ]
    }
   ],
   "source": [
    "#Converting list of tuples to dictionary\n",
    "marks=[('abi',29),('dani',30)]\n",
    "marks_dic=dict(marks)\n",
    "print(marks_dic)"
   ]
  },
  {
   "cell_type": "code",
   "execution_count": 32,
   "id": "0d527809",
   "metadata": {},
   "outputs": [
    {
     "name": "stdout",
     "output_type": "stream",
     "text": [
      "{1: 'Python', 2: 'ML', 3: 'DS'}\n"
     ]
    }
   ],
   "source": [
    "#converting two lists of same length to a dictionary using dict and zip method\n",
    "index=[1,2,3]\n",
    "courses=['Python','ML','DS']\n",
    "Dictionary=dict(zip(index,courses))\n",
    "print(Dictionary)"
   ]
  },
  {
   "cell_type": "code",
   "execution_count": 33,
   "id": "cb6f6315",
   "metadata": {},
   "outputs": [
    {
     "name": "stdout",
     "output_type": "stream",
     "text": [
      "{1: 'Python', 2: 'ML', 3: 'DS'}\n"
     ]
    }
   ],
   "source": [
    "#Another method\n",
    "index=[1,2,3]\n",
    "courses=['Python','ML','DS']\n",
    "Dictionary={k:v for k,v in zip(index,courses)}\n",
    "print(Dictionary)"
   ]
  },
  {
   "cell_type": "code",
   "execution_count": 34,
   "id": "23a4e2eb",
   "metadata": {},
   "outputs": [
    {
     "name": "stdout",
     "output_type": "stream",
     "text": [
      "{1: 1, 2: 4, 3: 9, 4: 16, 5: 25, 6: 36, 7: 49, 8: 64, 9: 81, 10: 100}\n"
     ]
    }
   ],
   "source": [
    "#square the values in lists\n",
    "lists=[1,2,3,4,5,6,7,8,9,10]\n",
    "square_dict={n:n*n for n in lists}\n",
    "print(square_dict)"
   ]
  },
  {
   "cell_type": "code",
   "execution_count": 36,
   "id": "a964b9e6",
   "metadata": {},
   "outputs": [
    {
     "data": {
      "text/plain": [
       "[2, 4, 6, 8, 10, 12]"
      ]
     },
     "execution_count": 36,
     "metadata": {},
     "output_type": "execute_result"
    }
   ],
   "source": [
    "#One liner 'for loop'       for loop is multiple input and single process\n",
    "list=[1,2,3,4,5,6]\n",
    "[l*2 for l in list]"
   ]
  },
  {
   "cell_type": "code",
   "execution_count": 37,
   "id": "76851907",
   "metadata": {},
   "outputs": [
    {
     "data": {
      "text/plain": [
       "[3, 4, 5, 6, 7, 8]"
      ]
     },
     "execution_count": 37,
     "metadata": {},
     "output_type": "execute_result"
    }
   ],
   "source": [
    "#Ex:\n",
    "list=[1,2,3,4,5,6]\n",
    "[l+2 for l in list]"
   ]
  },
  {
   "cell_type": "code",
   "execution_count": 2,
   "id": "2d1feb65",
   "metadata": {},
   "outputs": [
    {
     "name": "stdout",
     "output_type": "stream",
     "text": [
      "*\n"
     ]
    }
   ],
   "source": [
    "#1 star\n",
    "print('*')"
   ]
  },
  {
   "cell_type": "code",
   "execution_count": 6,
   "id": "e614c63b",
   "metadata": {},
   "outputs": [
    {
     "name": "stdout",
     "output_type": "stream",
     "text": [
      "* 5\n",
      "*****\n"
     ]
    }
   ],
   "source": [
    "#5 star\n",
    "n=5\n",
    "print(\"*\",n)\n",
    "print(\"*\"*n)#5 star horizontal without gap"
   ]
  },
  {
   "cell_type": "code",
   "execution_count": 10,
   "id": "40f38fdc",
   "metadata": {},
   "outputs": [
    {
     "name": "stdout",
     "output_type": "stream",
     "text": [
      "*\n",
      "*\n",
      "*\n",
      "*\n",
      "*\n"
     ]
    }
   ],
   "source": [
    "n=5\n",
    "for i in range(n):#5 star vertical\n",
    "    print('*')"
   ]
  },
  {
   "cell_type": "code",
   "execution_count": 15,
   "id": "7d25156a",
   "metadata": {},
   "outputs": [
    {
     "name": "stdout",
     "output_type": "stream",
     "text": [
      "* * * * * "
     ]
    }
   ],
   "source": [
    "n=5\n",
    "for i in range(n):\n",
    "    print('*',end=' ')"
   ]
  },
  {
   "cell_type": "code",
   "execution_count": 19,
   "id": "3be997c5",
   "metadata": {},
   "outputs": [
    {
     "name": "stdout",
     "output_type": "stream",
     "text": [
      "* * * * * \n",
      "* * * * * \n",
      "* * * * * \n",
      "* * * * * \n",
      "* * * * * \n"
     ]
    }
   ],
   "source": [
    "n=5\n",
    "for i in range(n):\n",
    "    for j in range(n):\n",
    "        print(\"*\",end=' ')\n",
    "    print()"
   ]
  },
  {
   "cell_type": "code",
   "execution_count": 21,
   "id": "bc7d36f3",
   "metadata": {},
   "outputs": [
    {
     "name": "stdout",
     "output_type": "stream",
     "text": [
      "7 7 7 7 7 \n",
      "7 7 7 7 7 \n",
      "7 7 7 7 7 \n",
      "7 7 7 7 7 \n",
      "7 7 7 7 7 \n"
     ]
    }
   ],
   "source": [
    "n=5\n",
    "for i in range(n):\n",
    "    for j in range(n):\n",
    "        print(\"7\",end=' ')\n",
    "    print()"
   ]
  },
  {
   "cell_type": "code",
   "execution_count": 32,
   "id": "4f44b950",
   "metadata": {},
   "outputs": [
    {
     "name": "stdout",
     "output_type": "stream",
     "text": [
      "\n",
      "*  \n",
      "*  *  \n",
      "*  *  *  \n",
      "*  *  *  *  \n",
      "*  *  *  *  *  "
     ]
    }
   ],
   "source": [
    "#decreasing the triangle shape star\n",
    "n=5\n",
    "for i in range(n):\n",
    "    print()\n",
    "    for j in range(i+1):\n",
    "        print(\"*\",end=\"  \")\n",
    "#(0+1)*  \n",
    "#(1+1)*  *  \n",
    "#(2+1)*  *  *  \n",
    "#(3+1)*  *  *  *  \n",
    "#(4+1)*  *  *  *  *  "
   ]
  },
  {
   "cell_type": "code",
   "execution_count": 31,
   "id": "3682a76a",
   "metadata": {},
   "outputs": [
    {
     "name": "stdout",
     "output_type": "stream",
     "text": [
      "*  *  *  *  *  \n",
      "*  *  *  *  \n",
      "*  *  *  \n",
      "*  *  \n",
      "*  \n"
     ]
    }
   ],
   "source": [
    "#decreasing the triangle shape star\n",
    "n=5\n",
    "for i in range(n):\n",
    "    for j in range(i,n):\n",
    "        print(\"*\",end=\"  \")\n",
    "    print()\n",
    "#0 to 5 *  *  *  *  *  \n",
    "#1 to 5 *  *  *  *  \n",
    "#2 to 5 *  *  *  \n",
    "#3 to 5 *  *  \n",
    "#4 to 5 *         "
   ]
  },
  {
   "cell_type": "code",
   "execution_count": 36,
   "id": "432f616d",
   "metadata": {},
   "outputs": [
    {
     "name": "stdout",
     "output_type": "stream",
     "text": [
      "          * \n",
      "        * * \n",
      "      * * * \n",
      "    * * * * \n",
      "  * * * * * \n"
     ]
    }
   ],
   "source": [
    "#right side decreasing triangle\n",
    "n=5\n",
    "for i in range(n):\n",
    "    for j in range(i,n):\n",
    "        print('',end=\"  \")\n",
    "    for j in range(i+1):\n",
    "        print('*',end=\" \")\n",
    "    print()"
   ]
  },
  {
   "cell_type": "code",
   "execution_count": 37,
   "id": "d00460bb",
   "metadata": {},
   "outputs": [
    {
     "name": "stdout",
     "output_type": "stream",
     "text": [
      "  * * * * * \n",
      "    * * * * \n",
      "      * * * \n",
      "        * * \n",
      "          * \n"
     ]
    }
   ],
   "source": [
    "n=5\n",
    "for i in range(n):\n",
    "    for j in range(i+1):\n",
    "        print('',end=\"  \")\n",
    "    for j in range(i,n):\n",
    "        print('*',end=\" \")\n",
    "    print()"
   ]
  },
  {
   "cell_type": "code",
   "execution_count": 38,
   "id": "780ea311",
   "metadata": {},
   "outputs": [
    {
     "name": "stdout",
     "output_type": "stream",
     "text": [
      "          * * \n",
      "        * * * * \n",
      "      * * * * * * \n",
      "    * * * * * * * * \n",
      "  * * * * * * * * * * \n"
     ]
    }
   ],
   "source": [
    "#Hill type \n",
    "n=5\n",
    "for i in range(n):\n",
    "    for j in range(i,n):\n",
    "        print('',end=\"  \")\n",
    "    for j in range(i+1):\n",
    "        print('*',end=\" \")\n",
    "    for j in range(i+1):\n",
    "        print('*',end=\" \")\n",
    "    print()"
   ]
  },
  {
   "cell_type": "code",
   "execution_count": 39,
   "id": "d8cc4d03",
   "metadata": {},
   "outputs": [
    {
     "name": "stdout",
     "output_type": "stream",
     "text": [
      "          * \n",
      "        * * * \n",
      "      * * * * * \n",
      "    * * * * * * * \n",
      "  * * * * * * * * * \n"
     ]
    }
   ],
   "source": [
    "#Hill pattern\n",
    "n=5\n",
    "for i in range(n):\n",
    "    for j in range(i,n):\n",
    "        print('',end=\"  \")\n",
    "    for j in range(i):\n",
    "        print('*',end=\" \")\n",
    "    for j in range(i+1):\n",
    "        print('*',end=\" \")\n",
    "    print()"
   ]
  },
  {
   "cell_type": "code",
   "execution_count": 41,
   "id": "584e680d",
   "metadata": {},
   "outputs": [
    {
     "name": "stdout",
     "output_type": "stream",
     "text": [
      "  * * * * * * * * * * \n",
      "    * * * * * * * * \n",
      "      * * * * * * \n",
      "        * * * * \n",
      "          * * \n"
     ]
    }
   ],
   "source": [
    "#Downward hill type\n",
    "n=5\n",
    "for i in range(n):\n",
    "    for j in range(i+1):\n",
    "        print('',end=\"  \")\n",
    "    for j in range(i,n):\n",
    "        print('*',end=\" \")\n",
    "    for j in range(i,n):\n",
    "        print('*',end=\" \")\n",
    "    print()"
   ]
  },
  {
   "cell_type": "code",
   "execution_count": 45,
   "id": "3fd90435",
   "metadata": {},
   "outputs": [
    {
     "name": "stdout",
     "output_type": "stream",
     "text": [
      "  * * * * * * * * * \n",
      "    * * * * * * * \n",
      "      * * * * * \n",
      "        * * * \n",
      "          * \n"
     ]
    }
   ],
   "source": [
    "#Downward hill pattern\n",
    "n=5\n",
    "for i in range(n):\n",
    "    for j in range(i+1):\n",
    "        print('',end=\"  \")\n",
    "    for j in range(i,n-1):\n",
    "        print('*',end=\" \")\n",
    "    for j in range(i,n):\n",
    "        print('*',end=\" \")\n",
    "    print()"
   ]
  },
  {
   "cell_type": "code",
   "execution_count": 49,
   "id": "938146d7",
   "metadata": {},
   "outputs": [
    {
     "name": "stdout",
     "output_type": "stream",
     "text": [
      "  * * * * * * * * * \n",
      "    * * * * * * * \n",
      "      * * * * * \n",
      "        * * * \n",
      "          * \n",
      "          * \n",
      "        * * * \n",
      "      * * * * * \n",
      "    * * * * * * * \n",
      "  * * * * * * * * * \n"
     ]
    }
   ],
   "source": [
    "n=5\n",
    "for i in range(n):\n",
    "    for j in range(i+1):\n",
    "        print('',end=\"  \")\n",
    "    for j in range(i,n-1):\n",
    "        print('*',end=\" \")\n",
    "    for j in range(i,n):\n",
    "        print('*',end=\" \")\n",
    "    print()\n",
    "for i in range(n):\n",
    "    for j in range(i,n):\n",
    "        print('',end=\"  \")\n",
    "    for j in range(i):\n",
    "        print('*',end=\" \")\n",
    "    for j in range(i+1):\n",
    "        print('*',end=\" \")\n",
    "    print()"
   ]
  },
  {
   "cell_type": "code",
   "execution_count": 50,
   "id": "7f02430c",
   "metadata": {},
   "outputs": [
    {
     "name": "stdout",
     "output_type": "stream",
     "text": [
      "          * \n",
      "        * * * \n",
      "      * * * * * \n",
      "    * * * * * * * \n",
      "  * * * * * * * * * \n",
      "  * * * * * * * * * \n",
      "    * * * * * * * \n",
      "      * * * * * \n",
      "        * * * \n",
      "          * \n"
     ]
    }
   ],
   "source": [
    "#Diamond type\n",
    "n=5\n",
    "for i in range(n):\n",
    "    for j in range(i,n):\n",
    "        print('',end=\"  \")\n",
    "    for j in range(i):\n",
    "        print('*',end=\" \")\n",
    "    for j in range(i+1):\n",
    "        print('*',end=\" \")\n",
    "    print()\n",
    "for i in range(n):\n",
    "    for j in range(i+1):\n",
    "        print('',end=\"  \")\n",
    "    for j in range(i,n-1):\n",
    "        print('*',end=\" \")\n",
    "    for j in range(i,n):\n",
    "        print('*',end=\" \")\n",
    "    print()"
   ]
  },
  {
   "cell_type": "code",
   "execution_count": 51,
   "id": "9187380d",
   "metadata": {},
   "outputs": [
    {
     "name": "stdout",
     "output_type": "stream",
     "text": [
      "          * \n",
      "        * * * \n",
      "      * * * * * \n",
      "    * * * * * * * \n",
      "  * * * * * * * * * \n",
      "    * * * * * * * \n",
      "      * * * * * \n",
      "        * * * \n",
      "          * \n"
     ]
    }
   ],
   "source": [
    "#Diamond pattern\n",
    "n=5\n",
    "for i in range(n-1):\n",
    "    for j in range(i,n):\n",
    "        print('',end=\"  \")\n",
    "    for j in range(i):\n",
    "        print('*',end=\" \")\n",
    "    for j in range(i+1):\n",
    "        print('*',end=\" \")\n",
    "    print()\n",
    "for i in range(n):\n",
    "    for j in range(i+1):\n",
    "        print('',end=\"  \")\n",
    "    for j in range(i,n-1):\n",
    "        print('*',end=\" \")\n",
    "    for j in range(i,n):\n",
    "        print('*',end=\" \")\n",
    "    print()"
   ]
  },
  {
   "cell_type": "code",
   "execution_count": null,
   "id": "bf619341",
   "metadata": {},
   "outputs": [],
   "source": []
  }
 ],
 "metadata": {
  "kernelspec": {
   "display_name": "Python 3 (ipykernel)",
   "language": "python",
   "name": "python3"
  },
  "language_info": {
   "codemirror_mode": {
    "name": "ipython",
    "version": 3
   },
   "file_extension": ".py",
   "mimetype": "text/x-python",
   "name": "python",
   "nbconvert_exporter": "python",
   "pygments_lexer": "ipython3",
   "version": "3.7.6"
  }
 },
 "nbformat": 4,
 "nbformat_minor": 5
}
