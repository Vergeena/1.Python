{
 "cells": [
  {
   "cell_type": "code",
   "execution_count": 15,
   "id": "4770649d",
   "metadata": {},
   "outputs": [],
   "source": [
    "lists=[3,26,86,52,31,66]"
   ]
  },
  {
   "cell_type": "code",
   "execution_count": 16,
   "id": "70f0dcfd",
   "metadata": {},
   "outputs": [],
   "source": [
    "def agecategory():\n",
    "    for age in lists:\n",
    "        if(age<18):\n",
    "            print(\"Children\")\n",
    "        elif(age<35):\n",
    "            print(\"Adult\")\n",
    "        elif(age<59):\n",
    "            print(\"Citizen\")\n",
    "        else:\n",
    "            print(\"Senior citizen\")"
   ]
  },
  {
   "cell_type": "code",
   "execution_count": 17,
   "id": "21f4c5aa",
   "metadata": {},
   "outputs": [
    {
     "name": "stdout",
     "output_type": "stream",
     "text": [
      "Children\n",
      "Adult\n",
      "Senior citizen\n",
      "Citizen\n",
      "Adult\n",
      "Senior citizen\n"
     ]
    }
   ],
   "source": [
    "agecategory()"
   ]
  },
  {
   "cell_type": "code",
   "execution_count": 18,
   "id": "f6e1d333",
   "metadata": {},
   "outputs": [
    {
     "name": "stdout",
     "output_type": "stream",
     "text": [
      "Enter the age:62\n"
     ]
    }
   ],
   "source": [
    "age=int(input(\"Enter the age:\"))"
   ]
  },
  {
   "cell_type": "code",
   "execution_count": 19,
   "id": "10e30c89",
   "metadata": {},
   "outputs": [],
   "source": [
    "def Agecategory1():\n",
    "        if(age<18):\n",
    "            print(\"Children\")\n",
    "            cate=\"Children\"\n",
    "        elif(age<35):\n",
    "            print(\"Adult\")\n",
    "            cate=\"Adult\"\n",
    "        elif(age<59):\n",
    "            print(\"Citizen\")\n",
    "            cate=\"Citizen\"\n",
    "        else:\n",
    "            print(\"Senior citizen\")\n",
    "            cate=\"Senior citizen\"\n",
    "        return cate"
   ]
  },
  {
   "cell_type": "code",
   "execution_count": 20,
   "id": "775f54cf",
   "metadata": {},
   "outputs": [
    {
     "name": "stdout",
     "output_type": "stream",
     "text": [
      "Senior citizen\n"
     ]
    },
    {
     "data": {
      "text/plain": [
       "'Senior citizen'"
      ]
     },
     "execution_count": 20,
     "metadata": {},
     "output_type": "execute_result"
    }
   ],
   "source": [
    "Agecategory1()"
   ]
  },
  {
   "cell_type": "code",
   "execution_count": 21,
   "id": "278efe8d",
   "metadata": {},
   "outputs": [
    {
     "name": "stdout",
     "output_type": "stream",
     "text": [
      "Senior citizen\n"
     ]
    }
   ],
   "source": [
    "agecate=Agecategory1()"
   ]
  },
  {
   "cell_type": "code",
   "execution_count": 22,
   "id": "892c458e",
   "metadata": {},
   "outputs": [
    {
     "data": {
      "text/plain": [
       "'Senior citizen'"
      ]
     },
     "execution_count": 22,
     "metadata": {},
     "output_type": "execute_result"
    }
   ],
   "source": [
    "agecate"
   ]
  },
  {
   "cell_type": "code",
   "execution_count": null,
   "id": "40b46383",
   "metadata": {},
   "outputs": [],
   "source": []
  }
 ],
 "metadata": {
  "kernelspec": {
   "display_name": "Python 3 (ipykernel)",
   "language": "python",
   "name": "python3"
  },
  "language_info": {
   "codemirror_mode": {
    "name": "ipython",
    "version": 3
   },
   "file_extension": ".py",
   "mimetype": "text/x-python",
   "name": "python",
   "nbconvert_exporter": "python",
   "pygments_lexer": "ipython3",
   "version": "3.11.5"
  }
 },
 "nbformat": 4,
 "nbformat_minor": 5
}
