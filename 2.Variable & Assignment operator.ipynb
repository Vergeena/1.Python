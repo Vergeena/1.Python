{
 "cells": [
  {
   "cell_type": "code",
   "execution_count": 1,
   "id": "f15af3b2",
   "metadata": {},
   "outputs": [],
   "source": [
    "num1 = 10\n",
    "num2 = 30\n",
    "add = num1+num2"
   ]
  },
  {
   "cell_type": "code",
   "execution_count": 2,
   "id": "81148405",
   "metadata": {},
   "outputs": [
    {
     "name": "stdout",
     "output_type": "stream",
     "text": [
      "add\n"
     ]
    }
   ],
   "source": [
    "num1 = 10\n",
    "num2 = 30\n",
    "add = num1+num2\n",
    "print(\"add\")"
   ]
  },
  {
   "cell_type": "code",
   "execution_count": 3,
   "id": "1a1f4aeb",
   "metadata": {},
   "outputs": [
    {
     "name": "stdout",
     "output_type": "stream",
     "text": [
      "add\n",
      "40\n"
     ]
    }
   ],
   "source": [
    "num1 = 10\n",
    "num2 = 30\n",
    "add = num1+num2\n",
    "print(\"add\")\n",
    "print(add)"
   ]
  },
  {
   "cell_type": "code",
   "execution_count": 6,
   "id": "9e2dbf20",
   "metadata": {},
   "outputs": [
    {
     "name": "stdout",
     "output_type": "stream",
     "text": [
      "The addition of two numbers\n",
      "The number1: 50\n",
      "The number2: 80\n",
      "The answer: 130\n"
     ]
    }
   ],
   "source": [
    "print(\"The addition of two numbers\")\n",
    "num1=50\n",
    "print(\"The number1:\",num1)\n",
    "num2=80\n",
    "print(\"The number2:\",num2)\n",
    "print(\"The answer:\",num1+num2)"
   ]
  },
  {
   "cell_type": "code",
   "execution_count": 8,
   "id": "848d9d4a",
   "metadata": {},
   "outputs": [
    {
     "name": "stdout",
     "output_type": "stream",
     "text": [
      "The addition of two numbers\n",
      "The number1: 50\n",
      "The number2: 80\n",
      "The answer is: 130\n"
     ]
    }
   ],
   "source": [
    "print(\"The addition of two numbers\")\n",
    "num1=50\n",
    "print(\"The number1:\",num1)\n",
    "num2=80\n",
    "print(\"The number2:\",num2)\n",
    "add=num1+num2\n",
    "print(\"The answer is:\",add)"
   ]
  }
 ],
 "metadata": {
  "kernelspec": {
   "display_name": "Python 3 (ipykernel)",
   "language": "python",
   "name": "python3"
  },
  "language_info": {
   "codemirror_mode": {
    "name": "ipython",
    "version": 3
   },
   "file_extension": ".py",
   "mimetype": "text/x-python",
   "name": "python",
   "nbconvert_exporter": "python",
   "pygments_lexer": "ipython3",
   "version": "3.11.5"
  }
 },
 "nbformat": 4,
 "nbformat_minor": 5
}
