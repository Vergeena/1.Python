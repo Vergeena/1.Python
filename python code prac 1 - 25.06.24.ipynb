{
 "cells": [
  {
   "cell_type": "markdown",
   "id": "21c2741a",
   "metadata": {},
   "source": [
    "# Print Statement"
   ]
  },
  {
   "cell_type": "code",
   "execution_count": 1,
   "id": "25770ecd",
   "metadata": {},
   "outputs": [
    {
     "name": "stdout",
     "output_type": "stream",
     "text": [
      "Welcome\n"
     ]
    }
   ],
   "source": [
    "print(\"Welcome\")"
   ]
  },
  {
   "cell_type": "code",
   "execution_count": 2,
   "id": "47d26f1c",
   "metadata": {},
   "outputs": [
    {
     "name": "stdout",
     "output_type": "stream",
     "text": [
      "Started AI\n"
     ]
    }
   ],
   "source": [
    "print(\"Started AI\")"
   ]
  },
  {
   "cell_type": "code",
   "execution_count": 3,
   "id": "1c0efb15",
   "metadata": {},
   "outputs": [
    {
     "name": "stdout",
     "output_type": "stream",
     "text": [
      "123456789\n"
     ]
    }
   ],
   "source": [
    "print(\"123456789\")"
   ]
  },
  {
   "cell_type": "markdown",
   "id": "68cb5612",
   "metadata": {},
   "source": [
    "# Assigning Variables"
   ]
  },
  {
   "cell_type": "code",
   "execution_count": 4,
   "id": "eaf1d77a",
   "metadata": {},
   "outputs": [
    {
     "name": "stdout",
     "output_type": "stream",
     "text": [
      "50\n"
     ]
    }
   ],
   "source": [
    "num1=30\n",
    "num2=20\n",
    "num=num1+num2\n",
    "print(num)"
   ]
  },
  {
   "cell_type": "code",
   "execution_count": 5,
   "id": "be4da37d",
   "metadata": {},
   "outputs": [
    {
     "name": "stdout",
     "output_type": "stream",
     "text": [
      "add 70\n"
     ]
    }
   ],
   "source": [
    "num1=40\n",
    "num2=30\n",
    "print(\"add\",num1+num2)"
   ]
  },
  {
   "cell_type": "code",
   "execution_count": 6,
   "id": "11bfe9cf",
   "metadata": {},
   "outputs": [
    {
     "name": "stdout",
     "output_type": "stream",
     "text": [
      "add 70\n"
     ]
    }
   ],
   "source": [
    "num1=40\n",
    "num2=30\n",
    "num=num1+num2\n",
    "print(\"add\",num)"
   ]
  },
  {
   "cell_type": "code",
   "execution_count": 7,
   "id": "c43747a2",
   "metadata": {},
   "outputs": [
    {
     "name": "stdout",
     "output_type": "stream",
     "text": [
      "Addition of two numbers\n",
      "Enter the num1: 90\n",
      "Enter the num2: 110\n",
      "The answer is 200\n"
     ]
    }
   ],
   "source": [
    "print(\"Addition of two numbers\")\n",
    "num1=90\n",
    "print(\"Enter the num1:\",num1)\n",
    "num2=110\n",
    "print(\"Enter the num2:\",num2)\n",
    "print(\"The answer is\",num1+num2)"
   ]
  },
  {
   "cell_type": "code",
   "execution_count": 8,
   "id": "becd4dc4",
   "metadata": {},
   "outputs": [
    {
     "name": "stdout",
     "output_type": "stream",
     "text": [
      "Addition of two numbers\n",
      "Enter the num1: 90\n",
      "Enter the num2: 110\n",
      "The answer is 200\n"
     ]
    }
   ],
   "source": [
    "print(\"Addition of two numbers\")\n",
    "num1=90\n",
    "print(\"Enter the num1:\",num1)\n",
    "num2=110\n",
    "print(\"Enter the num2:\",num2)\n",
    "add=num1+num2\n",
    "print(\"The answer is\",add)"
   ]
  },
  {
   "cell_type": "markdown",
   "id": "3777ee27",
   "metadata": {},
   "source": [
    "# Input statement"
   ]
  },
  {
   "cell_type": "code",
   "execution_count": 9,
   "id": "9db140ad",
   "metadata": {},
   "outputs": [
    {
     "name": "stdout",
     "output_type": "stream",
     "text": [
      "Enter the value1:6\n"
     ]
    }
   ],
   "source": [
    "num1=input(\"Enter the value1:\")"
   ]
  },
  {
   "cell_type": "code",
   "execution_count": 10,
   "id": "00ff2284",
   "metadata": {},
   "outputs": [
    {
     "name": "stdout",
     "output_type": "stream",
     "text": [
      "Enter the value2:1\n"
     ]
    }
   ],
   "source": [
    "num2=input(\"Enter the value2:\")"
   ]
  },
  {
   "cell_type": "code",
   "execution_count": 11,
   "id": "dbbd844a",
   "metadata": {},
   "outputs": [],
   "source": [
    "add=num1+num2"
   ]
  },
  {
   "cell_type": "code",
   "execution_count": 12,
   "id": "38fbbadb",
   "metadata": {},
   "outputs": [
    {
     "name": "stdout",
     "output_type": "stream",
     "text": [
      "61\n"
     ]
    }
   ],
   "source": [
    "print(add)"
   ]
  },
  {
   "cell_type": "code",
   "execution_count": 13,
   "id": "4d592f9c",
   "metadata": {},
   "outputs": [
    {
     "name": "stdout",
     "output_type": "stream",
     "text": [
      "Enter the value1:6\n"
     ]
    }
   ],
   "source": [
    "num1=int(input(\"Enter the value1:\"))"
   ]
  },
  {
   "cell_type": "code",
   "execution_count": 14,
   "id": "bc1ae766",
   "metadata": {},
   "outputs": [
    {
     "name": "stdout",
     "output_type": "stream",
     "text": [
      "Enter the value2:1\n"
     ]
    }
   ],
   "source": [
    "num2=int(input(\"Enter the value2:\"))"
   ]
  },
  {
   "cell_type": "code",
   "execution_count": 15,
   "id": "3672cb29",
   "metadata": {},
   "outputs": [],
   "source": [
    "add=num1+num2"
   ]
  },
  {
   "cell_type": "code",
   "execution_count": 16,
   "id": "93f5a3c8",
   "metadata": {},
   "outputs": [
    {
     "name": "stdout",
     "output_type": "stream",
     "text": [
      "7\n"
     ]
    }
   ],
   "source": [
    "print(add)"
   ]
  },
  {
   "cell_type": "code",
   "execution_count": 17,
   "id": "bdf24c78",
   "metadata": {},
   "outputs": [
    {
     "name": "stdout",
     "output_type": "stream",
     "text": [
      "Enter the value1:16\n"
     ]
    }
   ],
   "source": [
    "num1=int(input(\"Enter the value1:\"))"
   ]
  },
  {
   "cell_type": "code",
   "execution_count": 18,
   "id": "920279a0",
   "metadata": {},
   "outputs": [
    {
     "name": "stdout",
     "output_type": "stream",
     "text": [
      "Enter the value2:24\n"
     ]
    }
   ],
   "source": [
    "num2=int(input(\"Enter the value2:\"))"
   ]
  },
  {
   "cell_type": "code",
   "execution_count": 19,
   "id": "fe68c939",
   "metadata": {},
   "outputs": [],
   "source": [
    "add=num1+num2"
   ]
  },
  {
   "cell_type": "code",
   "execution_count": 20,
   "id": "b91c6916",
   "metadata": {},
   "outputs": [],
   "source": [
    "mul=num1*num2"
   ]
  },
  {
   "cell_type": "code",
   "execution_count": 21,
   "id": "76558f2b",
   "metadata": {},
   "outputs": [
    {
     "name": "stdout",
     "output_type": "stream",
     "text": [
      "40\n",
      "384\n"
     ]
    }
   ],
   "source": [
    "print(add)\n",
    "print(mul)"
   ]
  },
  {
   "cell_type": "markdown",
   "id": "c4b17292",
   "metadata": {},
   "source": [
    "# Assignmnet"
   ]
  },
  {
   "cell_type": "code",
   "execution_count": 22,
   "id": "97185de8",
   "metadata": {},
   "outputs": [
    {
     "name": "stdout",
     "output_type": "stream",
     "text": [
      "HOPE AI\n"
     ]
    }
   ],
   "source": [
    "print(\"HOPE AI\")"
   ]
  },
  {
   "cell_type": "code",
   "execution_count": 23,
   "id": "3e1da45d",
   "metadata": {},
   "outputs": [
    {
     "name": "stdout",
     "output_type": "stream",
     "text": [
      "Enter your Institute name:Hope AI\n"
     ]
    }
   ],
   "source": [
    "name=input(\"Enter your Institute name:\")"
   ]
  },
  {
   "cell_type": "code",
   "execution_count": 25,
   "id": "52e9b61a",
   "metadata": {},
   "outputs": [
    {
     "name": "stdout",
     "output_type": "stream",
     "text": [
      "Enter your name:jee\n",
      "Enter your age:12\n",
      "Enter your School name:infant\n",
      "Enter your degree:BE\n"
     ]
    }
   ],
   "source": [
    "name=input(\"Enter your name:\")\n",
    "age=input(\"Enter your age:\")\n",
    "Schoolname=input(\"Enter your School name:\")\n",
    "degree=input(\"Enter your degree:\")"
   ]
  },
  {
   "cell_type": "code",
   "execution_count": 4,
   "id": "88548f9c",
   "metadata": {},
   "outputs": [
    {
     "name": "stdout",
     "output_type": "stream",
     "text": [
      "a=43\n",
      "b=34\n",
      "add = 77\n"
     ]
    }
   ],
   "source": [
    "a=43\n",
    "b=34\n",
    "add=(a+b)\n",
    "print(\"a=43\")\n",
    "print(\"b=34\")\n",
    "print(\"add =\",add)"
   ]
  },
  {
   "cell_type": "code",
   "execution_count": 7,
   "id": "84b1d09a",
   "metadata": {},
   "outputs": [
    {
     "name": "stdout",
     "output_type": "stream",
     "text": [
      "a=43\n",
      "b=34\n",
      "sub = 9\n"
     ]
    }
   ],
   "source": [
    "a=43\n",
    "b=34\n",
    "print(\"a=43\")\n",
    "print(\"b=34\")\n",
    "sub=a-b\n",
    "print(\"sub =\",sub)"
   ]
  },
  {
   "cell_type": "code",
   "execution_count": 9,
   "id": "e58e5c46",
   "metadata": {},
   "outputs": [
    {
     "name": "stdout",
     "output_type": "stream",
     "text": [
      "a=63\n",
      "b=97\n",
      "Mul = 6111\n"
     ]
    }
   ],
   "source": [
    "a=63\n",
    "b=97\n",
    "print(\"a=63\")\n",
    "print(\"b=97\")\n",
    "mul=a*b\n",
    "print(\"Mul =\",mul)"
   ]
  },
  {
   "cell_type": "code",
   "execution_count": 10,
   "id": "cd4dc0e8",
   "metadata": {},
   "outputs": [
    {
     "name": "stdout",
     "output_type": "stream",
     "text": [
      "a=76\n",
      "b=31\n",
      "div = 2.4516129032258065\n"
     ]
    }
   ],
   "source": [
    "a=76\n",
    "b=31\n",
    "print(\"a=76\")\n",
    "print(\"b=31\")\n",
    "div=a/b\n",
    "print(\"div =\",div)"
   ]
  },
  {
   "cell_type": "code",
   "execution_count": 11,
   "id": "47c28883",
   "metadata": {},
   "outputs": [
    {
     "name": "stdout",
     "output_type": "stream",
     "text": [
      "a= 76\n",
      "b= 31\n",
      "Floor Div = 2\n"
     ]
    }
   ],
   "source": [
    "a=76\n",
    "b=31\n",
    "print(\"a=\",a)\n",
    "print(\"b=\",b)\n",
    "FloorDiv=a//b\n",
    "print(\"Floor Div =\",FloorDiv)"
   ]
  },
  {
   "cell_type": "code",
   "execution_count": 12,
   "id": "52699dfa",
   "metadata": {},
   "outputs": [
    {
     "name": "stdout",
     "output_type": "stream",
     "text": [
      "a= 76\n",
      "b= 31\n",
      "Modulo = 14\n"
     ]
    }
   ],
   "source": [
    "a=76\n",
    "b=31\n",
    "print(\"a=\",a)\n",
    "print(\"b=\",b)\n",
    "modulo=a%b\n",
    "print(\"Modulo =\",modulo)"
   ]
  },
  {
   "cell_type": "code",
   "execution_count": 13,
   "id": "00b1f4f6",
   "metadata": {},
   "outputs": [
    {
     "name": "stdout",
     "output_type": "stream",
     "text": [
      "a= 4\n",
      "b= 4\n",
      "Power = 256\n"
     ]
    }
   ],
   "source": [
    "a=4\n",
    "b=4\n",
    "print(\"a=\",a)\n",
    "print(\"b=\",b)\n",
    "power=4**4\n",
    "print(\"Power =\",power)"
   ]
  },
  {
   "cell_type": "code",
   "execution_count": 14,
   "id": "dbef6ae5",
   "metadata": {},
   "outputs": [
    {
     "name": "stdout",
     "output_type": "stream",
     "text": [
      "a= 3\n",
      "b= 3\n",
      "Power = 27\n"
     ]
    }
   ],
   "source": [
    "a=3\n",
    "b=3\n",
    "print(\"a=\",a)\n",
    "print(\"b=\",b)\n",
    "power=3**3\n",
    "print(\"Power =\",power)"
   ]
  },
  {
   "cell_type": "code",
   "execution_count": 15,
   "id": "db35cde7",
   "metadata": {},
   "outputs": [
    {
     "name": "stdout",
     "output_type": "stream",
     "text": [
      "a= 3\n",
      "b= 4\n",
      "Power = 81\n"
     ]
    }
   ],
   "source": [
    "a=3\n",
    "b=4\n",
    "print(\"a=\",a)\n",
    "print(\"b=\",b)\n",
    "power=3**4\n",
    "print(\"Power =\",power)"
   ]
  },
  {
   "cell_type": "code",
   "execution_count": null,
   "id": "bee12518",
   "metadata": {},
   "outputs": [],
   "source": []
  }
 ],
 "metadata": {
  "kernelspec": {
   "display_name": "Python 3 (ipykernel)",
   "language": "python",
   "name": "python3"
  },
  "language_info": {
   "codemirror_mode": {
    "name": "ipython",
    "version": 3
   },
   "file_extension": ".py",
   "mimetype": "text/x-python",
   "name": "python",
   "nbconvert_exporter": "python",
   "pygments_lexer": "ipython3",
   "version": "3.7.6"
  }
 },
 "nbformat": 4,
 "nbformat_minor": 5
}
